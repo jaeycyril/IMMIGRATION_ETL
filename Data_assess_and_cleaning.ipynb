{
 "cells": [
  {
   "cell_type": "code",
   "execution_count": 1,
   "metadata": {
    "editable": true
   },
   "outputs": [],
   "source": [
    "import pandas as pd"
   ]
  },
  {
   "cell_type": "code",
   "execution_count": 2,
   "metadata": {
    "editable": true
   },
   "outputs": [],
   "source": [
    "df = pd.read_csv(\"us-cities-demographics.csv\", sep=\";\")"
   ]
  },
  {
   "cell_type": "code",
   "execution_count": 3,
   "metadata": {
    "editable": true
   },
   "outputs": [
    {
     "data": {
      "text/html": [
       "<div>\n",
       "<style scoped>\n",
       "    .dataframe tbody tr th:only-of-type {\n",
       "        vertical-align: middle;\n",
       "    }\n",
       "\n",
       "    .dataframe tbody tr th {\n",
       "        vertical-align: top;\n",
       "    }\n",
       "\n",
       "    .dataframe thead th {\n",
       "        text-align: right;\n",
       "    }\n",
       "</style>\n",
       "<table border=\"1\" class=\"dataframe\">\n",
       "  <thead>\n",
       "    <tr style=\"text-align: right;\">\n",
       "      <th></th>\n",
       "      <th>City</th>\n",
       "      <th>State</th>\n",
       "      <th>Median Age</th>\n",
       "      <th>Male Population</th>\n",
       "      <th>Female Population</th>\n",
       "      <th>Total Population</th>\n",
       "      <th>Number of Veterans</th>\n",
       "      <th>Foreign-born</th>\n",
       "      <th>Average Household Size</th>\n",
       "      <th>State Code</th>\n",
       "      <th>Race</th>\n",
       "      <th>Count</th>\n",
       "    </tr>\n",
       "  </thead>\n",
       "  <tbody>\n",
       "    <tr>\n",
       "      <th>0</th>\n",
       "      <td>Silver Spring</td>\n",
       "      <td>Maryland</td>\n",
       "      <td>33.8</td>\n",
       "      <td>40601.0</td>\n",
       "      <td>41862.0</td>\n",
       "      <td>82463</td>\n",
       "      <td>1562.0</td>\n",
       "      <td>30908.0</td>\n",
       "      <td>2.60</td>\n",
       "      <td>MD</td>\n",
       "      <td>Hispanic or Latino</td>\n",
       "      <td>25924</td>\n",
       "    </tr>\n",
       "    <tr>\n",
       "      <th>1</th>\n",
       "      <td>Quincy</td>\n",
       "      <td>Massachusetts</td>\n",
       "      <td>41.0</td>\n",
       "      <td>44129.0</td>\n",
       "      <td>49500.0</td>\n",
       "      <td>93629</td>\n",
       "      <td>4147.0</td>\n",
       "      <td>32935.0</td>\n",
       "      <td>2.39</td>\n",
       "      <td>MA</td>\n",
       "      <td>White</td>\n",
       "      <td>58723</td>\n",
       "    </tr>\n",
       "    <tr>\n",
       "      <th>2</th>\n",
       "      <td>Hoover</td>\n",
       "      <td>Alabama</td>\n",
       "      <td>38.5</td>\n",
       "      <td>38040.0</td>\n",
       "      <td>46799.0</td>\n",
       "      <td>84839</td>\n",
       "      <td>4819.0</td>\n",
       "      <td>8229.0</td>\n",
       "      <td>2.58</td>\n",
       "      <td>AL</td>\n",
       "      <td>Asian</td>\n",
       "      <td>4759</td>\n",
       "    </tr>\n",
       "    <tr>\n",
       "      <th>3</th>\n",
       "      <td>Rancho Cucamonga</td>\n",
       "      <td>California</td>\n",
       "      <td>34.5</td>\n",
       "      <td>88127.0</td>\n",
       "      <td>87105.0</td>\n",
       "      <td>175232</td>\n",
       "      <td>5821.0</td>\n",
       "      <td>33878.0</td>\n",
       "      <td>3.18</td>\n",
       "      <td>CA</td>\n",
       "      <td>Black or African-American</td>\n",
       "      <td>24437</td>\n",
       "    </tr>\n",
       "    <tr>\n",
       "      <th>4</th>\n",
       "      <td>Newark</td>\n",
       "      <td>New Jersey</td>\n",
       "      <td>34.6</td>\n",
       "      <td>138040.0</td>\n",
       "      <td>143873.0</td>\n",
       "      <td>281913</td>\n",
       "      <td>5829.0</td>\n",
       "      <td>86253.0</td>\n",
       "      <td>2.73</td>\n",
       "      <td>NJ</td>\n",
       "      <td>White</td>\n",
       "      <td>76402</td>\n",
       "    </tr>\n",
       "  </tbody>\n",
       "</table>\n",
       "</div>"
      ],
      "text/plain": [
       "               City          State  Median Age  Male Population  \\\n",
       "0     Silver Spring       Maryland        33.8          40601.0   \n",
       "1            Quincy  Massachusetts        41.0          44129.0   \n",
       "2            Hoover        Alabama        38.5          38040.0   \n",
       "3  Rancho Cucamonga     California        34.5          88127.0   \n",
       "4            Newark     New Jersey        34.6         138040.0   \n",
       "\n",
       "   Female Population  Total Population  Number of Veterans  Foreign-born  \\\n",
       "0            41862.0             82463              1562.0       30908.0   \n",
       "1            49500.0             93629              4147.0       32935.0   \n",
       "2            46799.0             84839              4819.0        8229.0   \n",
       "3            87105.0            175232              5821.0       33878.0   \n",
       "4           143873.0            281913              5829.0       86253.0   \n",
       "\n",
       "   Average Household Size State Code                       Race  Count  \n",
       "0                    2.60         MD         Hispanic or Latino  25924  \n",
       "1                    2.39         MA                      White  58723  \n",
       "2                    2.58         AL                      Asian   4759  \n",
       "3                    3.18         CA  Black or African-American  24437  \n",
       "4                    2.73         NJ                      White  76402  "
      ]
     },
     "execution_count": 3,
     "metadata": {},
     "output_type": "execute_result"
    }
   ],
   "source": [
    "df.head()"
   ]
  },
  {
   "cell_type": "code",
   "execution_count": 4,
   "metadata": {
    "editable": true
   },
   "outputs": [],
   "source": [
    "from pyspark.sql import SparkSession\n",
    "\n",
    "spark = SparkSession.builder.\\\n",
    "config(\"spark.jars.repositories\", \"https://repos.spark-packages.org/\").\\\n",
    "config(\"spark.jars.packages\", \"saurfang:spark-sas7bdat:2.0.0-s_2.11\").\\\n",
    "enableHiveSupport().getOrCreate()\n",
    "\n",
    "#df_spark = spark.read.format('com.github.saurfang.sas.spark').load('../../data/18-83510-I94-Data-2016/i94_apr16_sub.sas7bdat')\n"
   ]
  },
  {
   "cell_type": "code",
   "execution_count": 9,
   "metadata": {
    "editable": true
   },
   "outputs": [
    {
     "data": {
      "text/html": [
       "<div>\n",
       "<style scoped>\n",
       "    .dataframe tbody tr th:only-of-type {\n",
       "        vertical-align: middle;\n",
       "    }\n",
       "\n",
       "    .dataframe tbody tr th {\n",
       "        vertical-align: top;\n",
       "    }\n",
       "\n",
       "    .dataframe thead th {\n",
       "        text-align: right;\n",
       "    }\n",
       "</style>\n",
       "<table border=\"1\" class=\"dataframe\">\n",
       "  <thead>\n",
       "    <tr style=\"text-align: right;\">\n",
       "      <th></th>\n",
       "      <th>dt</th>\n",
       "      <th>AverageTemperature</th>\n",
       "      <th>AverageTemperatureUncertainty</th>\n",
       "      <th>City</th>\n",
       "      <th>Country</th>\n",
       "      <th>Latitude</th>\n",
       "      <th>Longitude</th>\n",
       "    </tr>\n",
       "  </thead>\n",
       "  <tbody>\n",
       "    <tr>\n",
       "      <th>0</th>\n",
       "      <td>1743-11-01</td>\n",
       "      <td>6.068</td>\n",
       "      <td>1.737</td>\n",
       "      <td>Århus</td>\n",
       "      <td>Denmark</td>\n",
       "      <td>57.05N</td>\n",
       "      <td>10.33E</td>\n",
       "    </tr>\n",
       "    <tr>\n",
       "      <th>1</th>\n",
       "      <td>1743-12-01</td>\n",
       "      <td>NaN</td>\n",
       "      <td>NaN</td>\n",
       "      <td>Århus</td>\n",
       "      <td>Denmark</td>\n",
       "      <td>57.05N</td>\n",
       "      <td>10.33E</td>\n",
       "    </tr>\n",
       "    <tr>\n",
       "      <th>2</th>\n",
       "      <td>1744-01-01</td>\n",
       "      <td>NaN</td>\n",
       "      <td>NaN</td>\n",
       "      <td>Århus</td>\n",
       "      <td>Denmark</td>\n",
       "      <td>57.05N</td>\n",
       "      <td>10.33E</td>\n",
       "    </tr>\n",
       "    <tr>\n",
       "      <th>3</th>\n",
       "      <td>1744-02-01</td>\n",
       "      <td>NaN</td>\n",
       "      <td>NaN</td>\n",
       "      <td>Århus</td>\n",
       "      <td>Denmark</td>\n",
       "      <td>57.05N</td>\n",
       "      <td>10.33E</td>\n",
       "    </tr>\n",
       "    <tr>\n",
       "      <th>4</th>\n",
       "      <td>1744-03-01</td>\n",
       "      <td>NaN</td>\n",
       "      <td>NaN</td>\n",
       "      <td>Århus</td>\n",
       "      <td>Denmark</td>\n",
       "      <td>57.05N</td>\n",
       "      <td>10.33E</td>\n",
       "    </tr>\n",
       "  </tbody>\n",
       "</table>\n",
       "</div>"
      ],
      "text/plain": [
       "           dt  AverageTemperature  AverageTemperatureUncertainty   City  \\\n",
       "0  1743-11-01               6.068                          1.737  Århus   \n",
       "1  1743-12-01                 NaN                            NaN  Århus   \n",
       "2  1744-01-01                 NaN                            NaN  Århus   \n",
       "3  1744-02-01                 NaN                            NaN  Århus   \n",
       "4  1744-03-01                 NaN                            NaN  Århus   \n",
       "\n",
       "   Country Latitude Longitude  \n",
       "0  Denmark   57.05N    10.33E  \n",
       "1  Denmark   57.05N    10.33E  \n",
       "2  Denmark   57.05N    10.33E  \n",
       "3  Denmark   57.05N    10.33E  \n",
       "4  Denmark   57.05N    10.33E  "
      ]
     },
     "execution_count": 9,
     "metadata": {},
     "output_type": "execute_result"
    }
   ],
   "source": [
    "fname = '../../data2/GlobalLandTemperaturesByCity.csv'\n",
    "df_temp = pd.read_csv(fname)\n",
    "df_temp.head()"
   ]
  },
  {
   "cell_type": "code",
   "execution_count": 10,
   "metadata": {
    "editable": true
   },
   "outputs": [],
   "source": [
    "df_recent_temp = df_temp[(df_temp.dt >= \"2000-01-01\") & (df_temp.Country == \"United States\")]"
   ]
  },
  {
   "cell_type": "code",
   "execution_count": 11,
   "metadata": {
    "editable": true
   },
   "outputs": [
    {
     "name": "stdout",
     "output_type": "stream",
     "text": [
      "(42405, 7)\n"
     ]
    },
    {
     "data": {
      "text/html": [
       "<div>\n",
       "<style scoped>\n",
       "    .dataframe tbody tr th:only-of-type {\n",
       "        vertical-align: middle;\n",
       "    }\n",
       "\n",
       "    .dataframe tbody tr th {\n",
       "        vertical-align: top;\n",
       "    }\n",
       "\n",
       "    .dataframe thead th {\n",
       "        text-align: right;\n",
       "    }\n",
       "</style>\n",
       "<table border=\"1\" class=\"dataframe\">\n",
       "  <thead>\n",
       "    <tr style=\"text-align: right;\">\n",
       "      <th></th>\n",
       "      <th>dt</th>\n",
       "      <th>AverageTemperature</th>\n",
       "      <th>AverageTemperatureUncertainty</th>\n",
       "      <th>City</th>\n",
       "      <th>Country</th>\n",
       "      <th>Latitude</th>\n",
       "      <th>Longitude</th>\n",
       "    </tr>\n",
       "  </thead>\n",
       "  <tbody>\n",
       "    <tr>\n",
       "      <th>5562845</th>\n",
       "      <td>2003-02-01</td>\n",
       "      <td>-1.365</td>\n",
       "      <td>0.247</td>\n",
       "      <td>Overland Park</td>\n",
       "      <td>United States</td>\n",
       "      <td>39.38N</td>\n",
       "      <td>93.64W</td>\n",
       "    </tr>\n",
       "    <tr>\n",
       "      <th>2902162</th>\n",
       "      <td>2006-02-01</td>\n",
       "      <td>11.421</td>\n",
       "      <td>0.304</td>\n",
       "      <td>Hayward</td>\n",
       "      <td>United States</td>\n",
       "      <td>37.78N</td>\n",
       "      <td>122.03W</td>\n",
       "    </tr>\n",
       "    <tr>\n",
       "      <th>4149388</th>\n",
       "      <td>2008-02-01</td>\n",
       "      <td>17.911</td>\n",
       "      <td>0.307</td>\n",
       "      <td>Laredo</td>\n",
       "      <td>United States</td>\n",
       "      <td>28.13N</td>\n",
       "      <td>99.09W</td>\n",
       "    </tr>\n",
       "    <tr>\n",
       "      <th>5138061</th>\n",
       "      <td>2007-06-01</td>\n",
       "      <td>24.862</td>\n",
       "      <td>0.164</td>\n",
       "      <td>Nashville</td>\n",
       "      <td>United States</td>\n",
       "      <td>36.17N</td>\n",
       "      <td>87.51W</td>\n",
       "    </tr>\n",
       "    <tr>\n",
       "      <th>3330172</th>\n",
       "      <td>2000-08-01</td>\n",
       "      <td>27.386</td>\n",
       "      <td>0.274</td>\n",
       "      <td>Jacksonville</td>\n",
       "      <td>United States</td>\n",
       "      <td>29.74N</td>\n",
       "      <td>81.23W</td>\n",
       "    </tr>\n",
       "    <tr>\n",
       "      <th>8154494</th>\n",
       "      <td>2013-02-01</td>\n",
       "      <td>-3.801</td>\n",
       "      <td>0.360</td>\n",
       "      <td>Warren</td>\n",
       "      <td>United States</td>\n",
       "      <td>42.59N</td>\n",
       "      <td>82.91W</td>\n",
       "    </tr>\n",
       "    <tr>\n",
       "      <th>4305631</th>\n",
       "      <td>2009-07-01</td>\n",
       "      <td>26.321</td>\n",
       "      <td>0.338</td>\n",
       "      <td>Little Rock</td>\n",
       "      <td>United States</td>\n",
       "      <td>34.56N</td>\n",
       "      <td>91.46W</td>\n",
       "    </tr>\n",
       "    <tr>\n",
       "      <th>2375039</th>\n",
       "      <td>2005-08-01</td>\n",
       "      <td>23.511</td>\n",
       "      <td>0.180</td>\n",
       "      <td>Fort Wayne</td>\n",
       "      <td>United States</td>\n",
       "      <td>40.99N</td>\n",
       "      <td>85.21W</td>\n",
       "    </tr>\n",
       "    <tr>\n",
       "      <th>3330217</th>\n",
       "      <td>2004-05-01</td>\n",
       "      <td>24.377</td>\n",
       "      <td>0.384</td>\n",
       "      <td>Jacksonville</td>\n",
       "      <td>United States</td>\n",
       "      <td>29.74N</td>\n",
       "      <td>81.23W</td>\n",
       "    </tr>\n",
       "    <tr>\n",
       "      <th>2902237</th>\n",
       "      <td>2012-05-01</td>\n",
       "      <td>16.555</td>\n",
       "      <td>0.255</td>\n",
       "      <td>Hayward</td>\n",
       "      <td>United States</td>\n",
       "      <td>37.78N</td>\n",
       "      <td>122.03W</td>\n",
       "    </tr>\n",
       "  </tbody>\n",
       "</table>\n",
       "</div>"
      ],
      "text/plain": [
       "                 dt  AverageTemperature  AverageTemperatureUncertainty  \\\n",
       "5562845  2003-02-01              -1.365                          0.247   \n",
       "2902162  2006-02-01              11.421                          0.304   \n",
       "4149388  2008-02-01              17.911                          0.307   \n",
       "5138061  2007-06-01              24.862                          0.164   \n",
       "3330172  2000-08-01              27.386                          0.274   \n",
       "8154494  2013-02-01              -3.801                          0.360   \n",
       "4305631  2009-07-01              26.321                          0.338   \n",
       "2375039  2005-08-01              23.511                          0.180   \n",
       "3330217  2004-05-01              24.377                          0.384   \n",
       "2902237  2012-05-01              16.555                          0.255   \n",
       "\n",
       "                  City        Country Latitude Longitude  \n",
       "5562845  Overland Park  United States   39.38N    93.64W  \n",
       "2902162        Hayward  United States   37.78N   122.03W  \n",
       "4149388         Laredo  United States   28.13N    99.09W  \n",
       "5138061      Nashville  United States   36.17N    87.51W  \n",
       "3330172   Jacksonville  United States   29.74N    81.23W  \n",
       "8154494         Warren  United States   42.59N    82.91W  \n",
       "4305631    Little Rock  United States   34.56N    91.46W  \n",
       "2375039     Fort Wayne  United States   40.99N    85.21W  \n",
       "3330217   Jacksonville  United States   29.74N    81.23W  \n",
       "2902237        Hayward  United States   37.78N   122.03W  "
      ]
     },
     "execution_count": 11,
     "metadata": {},
     "output_type": "execute_result"
    }
   ],
   "source": [
    "print(df_recent_temp.shape)\n",
    "df_recent_temp.sample(10)"
   ]
  },
  {
   "cell_type": "code",
   "execution_count": 12,
   "metadata": {
    "editable": true
   },
   "outputs": [
    {
     "data": {
      "text/html": [
       "<div>\n",
       "<style scoped>\n",
       "    .dataframe tbody tr th:only-of-type {\n",
       "        vertical-align: middle;\n",
       "    }\n",
       "\n",
       "    .dataframe tbody tr th {\n",
       "        vertical-align: top;\n",
       "    }\n",
       "\n",
       "    .dataframe thead th {\n",
       "        text-align: right;\n",
       "    }\n",
       "</style>\n",
       "<table border=\"1\" class=\"dataframe\">\n",
       "  <thead>\n",
       "    <tr style=\"text-align: right;\">\n",
       "      <th></th>\n",
       "      <th>ident</th>\n",
       "      <th>type</th>\n",
       "      <th>name</th>\n",
       "      <th>elevation_ft</th>\n",
       "      <th>continent</th>\n",
       "      <th>iso_country</th>\n",
       "      <th>iso_region</th>\n",
       "      <th>municipality</th>\n",
       "      <th>gps_code</th>\n",
       "      <th>iata_code</th>\n",
       "      <th>local_code</th>\n",
       "      <th>coordinates</th>\n",
       "    </tr>\n",
       "  </thead>\n",
       "  <tbody>\n",
       "    <tr>\n",
       "      <th>0</th>\n",
       "      <td>00A</td>\n",
       "      <td>heliport</td>\n",
       "      <td>Total Rf Heliport</td>\n",
       "      <td>11.0</td>\n",
       "      <td>NaN</td>\n",
       "      <td>US</td>\n",
       "      <td>US-PA</td>\n",
       "      <td>Bensalem</td>\n",
       "      <td>00A</td>\n",
       "      <td>NaN</td>\n",
       "      <td>00A</td>\n",
       "      <td>-74.93360137939453, 40.07080078125</td>\n",
       "    </tr>\n",
       "    <tr>\n",
       "      <th>1</th>\n",
       "      <td>00AA</td>\n",
       "      <td>small_airport</td>\n",
       "      <td>Aero B Ranch Airport</td>\n",
       "      <td>3435.0</td>\n",
       "      <td>NaN</td>\n",
       "      <td>US</td>\n",
       "      <td>US-KS</td>\n",
       "      <td>Leoti</td>\n",
       "      <td>00AA</td>\n",
       "      <td>NaN</td>\n",
       "      <td>00AA</td>\n",
       "      <td>-101.473911, 38.704022</td>\n",
       "    </tr>\n",
       "    <tr>\n",
       "      <th>2</th>\n",
       "      <td>00AK</td>\n",
       "      <td>small_airport</td>\n",
       "      <td>Lowell Field</td>\n",
       "      <td>450.0</td>\n",
       "      <td>NaN</td>\n",
       "      <td>US</td>\n",
       "      <td>US-AK</td>\n",
       "      <td>Anchor Point</td>\n",
       "      <td>00AK</td>\n",
       "      <td>NaN</td>\n",
       "      <td>00AK</td>\n",
       "      <td>-151.695999146, 59.94919968</td>\n",
       "    </tr>\n",
       "    <tr>\n",
       "      <th>3</th>\n",
       "      <td>00AL</td>\n",
       "      <td>small_airport</td>\n",
       "      <td>Epps Airpark</td>\n",
       "      <td>820.0</td>\n",
       "      <td>NaN</td>\n",
       "      <td>US</td>\n",
       "      <td>US-AL</td>\n",
       "      <td>Harvest</td>\n",
       "      <td>00AL</td>\n",
       "      <td>NaN</td>\n",
       "      <td>00AL</td>\n",
       "      <td>-86.77030181884766, 34.86479949951172</td>\n",
       "    </tr>\n",
       "    <tr>\n",
       "      <th>4</th>\n",
       "      <td>00AR</td>\n",
       "      <td>closed</td>\n",
       "      <td>Newport Hospital &amp; Clinic Heliport</td>\n",
       "      <td>237.0</td>\n",
       "      <td>NaN</td>\n",
       "      <td>US</td>\n",
       "      <td>US-AR</td>\n",
       "      <td>Newport</td>\n",
       "      <td>NaN</td>\n",
       "      <td>NaN</td>\n",
       "      <td>NaN</td>\n",
       "      <td>-91.254898, 35.6087</td>\n",
       "    </tr>\n",
       "  </tbody>\n",
       "</table>\n",
       "</div>"
      ],
      "text/plain": [
       "  ident           type                                name  elevation_ft  \\\n",
       "0   00A       heliport                   Total Rf Heliport          11.0   \n",
       "1  00AA  small_airport                Aero B Ranch Airport        3435.0   \n",
       "2  00AK  small_airport                        Lowell Field         450.0   \n",
       "3  00AL  small_airport                        Epps Airpark         820.0   \n",
       "4  00AR         closed  Newport Hospital & Clinic Heliport         237.0   \n",
       "\n",
       "  continent iso_country iso_region  municipality gps_code iata_code  \\\n",
       "0       NaN          US      US-PA      Bensalem      00A       NaN   \n",
       "1       NaN          US      US-KS         Leoti     00AA       NaN   \n",
       "2       NaN          US      US-AK  Anchor Point     00AK       NaN   \n",
       "3       NaN          US      US-AL       Harvest     00AL       NaN   \n",
       "4       NaN          US      US-AR       Newport      NaN       NaN   \n",
       "\n",
       "  local_code                            coordinates  \n",
       "0        00A     -74.93360137939453, 40.07080078125  \n",
       "1       00AA                 -101.473911, 38.704022  \n",
       "2       00AK            -151.695999146, 59.94919968  \n",
       "3       00AL  -86.77030181884766, 34.86479949951172  \n",
       "4        NaN                    -91.254898, 35.6087  "
      ]
     },
     "execution_count": 12,
     "metadata": {},
     "output_type": "execute_result"
    }
   ],
   "source": [
    "df_air = pd.read_csv(\"airport-codes_csv.csv\")\n",
    "df_air.head()"
   ]
  },
  {
   "cell_type": "code",
   "execution_count": 13,
   "metadata": {
    "editable": true
   },
   "outputs": [
    {
     "data": {
      "text/plain": [
       "array(['heliport', 'small_airport', 'closed', 'seaplane_base',\n",
       "       'balloonport', 'medium_airport', 'large_airport'], dtype=object)"
      ]
     },
     "execution_count": 13,
     "metadata": {},
     "output_type": "execute_result"
    }
   ],
   "source": [
    "df_air.type.unique()"
   ]
  },
  {
   "cell_type": "code",
   "execution_count": 14,
   "metadata": {
    "editable": true
   },
   "outputs": [
    {
     "data": {
      "text/html": [
       "<div>\n",
       "<style scoped>\n",
       "    .dataframe tbody tr th:only-of-type {\n",
       "        vertical-align: middle;\n",
       "    }\n",
       "\n",
       "    .dataframe tbody tr th {\n",
       "        vertical-align: top;\n",
       "    }\n",
       "\n",
       "    .dataframe thead th {\n",
       "        text-align: right;\n",
       "    }\n",
       "</style>\n",
       "<table border=\"1\" class=\"dataframe\">\n",
       "  <thead>\n",
       "    <tr style=\"text-align: right;\">\n",
       "      <th></th>\n",
       "      <th>ident</th>\n",
       "      <th>type</th>\n",
       "      <th>name</th>\n",
       "      <th>elevation_ft</th>\n",
       "      <th>continent</th>\n",
       "      <th>iso_country</th>\n",
       "      <th>iso_region</th>\n",
       "      <th>municipality</th>\n",
       "      <th>gps_code</th>\n",
       "      <th>iata_code</th>\n",
       "      <th>local_code</th>\n",
       "      <th>coordinates</th>\n",
       "    </tr>\n",
       "  </thead>\n",
       "  <tbody>\n",
       "    <tr>\n",
       "      <th>28544</th>\n",
       "      <td>KPBI</td>\n",
       "      <td>large_airport</td>\n",
       "      <td>Palm Beach International Airport</td>\n",
       "      <td>19.0</td>\n",
       "      <td>NaN</td>\n",
       "      <td>US</td>\n",
       "      <td>US-FL</td>\n",
       "      <td>West Palm Beach</td>\n",
       "      <td>KPBI</td>\n",
       "      <td>PBI</td>\n",
       "      <td>PBI</td>\n",
       "      <td>-80.09559631347656, 26.68320083618164</td>\n",
       "    </tr>\n",
       "    <tr>\n",
       "      <th>27389</th>\n",
       "      <td>KGUS</td>\n",
       "      <td>large_airport</td>\n",
       "      <td>Grissom Air Reserve Base</td>\n",
       "      <td>812.0</td>\n",
       "      <td>NaN</td>\n",
       "      <td>US</td>\n",
       "      <td>US-IN</td>\n",
       "      <td>Peru</td>\n",
       "      <td>KGUS</td>\n",
       "      <td>GUS</td>\n",
       "      <td>GUS</td>\n",
       "      <td>-86.1520996094, 40.648101806599996</td>\n",
       "    </tr>\n",
       "    <tr>\n",
       "      <th>28394</th>\n",
       "      <td>KORF</td>\n",
       "      <td>large_airport</td>\n",
       "      <td>Norfolk International Airport</td>\n",
       "      <td>26.0</td>\n",
       "      <td>NaN</td>\n",
       "      <td>US</td>\n",
       "      <td>US-VA</td>\n",
       "      <td>Norfolk</td>\n",
       "      <td>KORF</td>\n",
       "      <td>ORF</td>\n",
       "      <td>ORF</td>\n",
       "      <td>-76.20120239257812, 36.89459991455078</td>\n",
       "    </tr>\n",
       "    <tr>\n",
       "      <th>28369</th>\n",
       "      <td>KOMA</td>\n",
       "      <td>large_airport</td>\n",
       "      <td>Eppley Airfield</td>\n",
       "      <td>984.0</td>\n",
       "      <td>NaN</td>\n",
       "      <td>US</td>\n",
       "      <td>US-NE</td>\n",
       "      <td>Omaha</td>\n",
       "      <td>KOMA</td>\n",
       "      <td>OMA</td>\n",
       "      <td>OMA</td>\n",
       "      <td>-95.894096, 41.3032</td>\n",
       "    </tr>\n",
       "    <tr>\n",
       "      <th>26611</th>\n",
       "      <td>KDTW</td>\n",
       "      <td>large_airport</td>\n",
       "      <td>Detroit Metropolitan Wayne County Airport</td>\n",
       "      <td>645.0</td>\n",
       "      <td>NaN</td>\n",
       "      <td>US</td>\n",
       "      <td>US-MI</td>\n",
       "      <td>Detroit</td>\n",
       "      <td>KDTW</td>\n",
       "      <td>DTW</td>\n",
       "      <td>DTW</td>\n",
       "      <td>-83.35340118408203, 42.212398529052734</td>\n",
       "    </tr>\n",
       "    <tr>\n",
       "      <th>26391</th>\n",
       "      <td>KCID</td>\n",
       "      <td>large_airport</td>\n",
       "      <td>The Eastern Iowa Airport</td>\n",
       "      <td>869.0</td>\n",
       "      <td>NaN</td>\n",
       "      <td>US</td>\n",
       "      <td>US-IA</td>\n",
       "      <td>Cedar Rapids</td>\n",
       "      <td>KCID</td>\n",
       "      <td>CID</td>\n",
       "      <td>CID</td>\n",
       "      <td>-91.71080017089844, 41.884700775146484</td>\n",
       "    </tr>\n",
       "    <tr>\n",
       "      <th>28584</th>\n",
       "      <td>KPIT</td>\n",
       "      <td>large_airport</td>\n",
       "      <td>Pittsburgh International Airport</td>\n",
       "      <td>1203.0</td>\n",
       "      <td>NaN</td>\n",
       "      <td>US</td>\n",
       "      <td>US-PA</td>\n",
       "      <td>Pittsburgh</td>\n",
       "      <td>KPIT</td>\n",
       "      <td>PIT</td>\n",
       "      <td>PIT</td>\n",
       "      <td>-80.23290253, 40.49150085</td>\n",
       "    </tr>\n",
       "    <tr>\n",
       "      <th>26415</th>\n",
       "      <td>KCLT</td>\n",
       "      <td>large_airport</td>\n",
       "      <td>Charlotte Douglas International Airport</td>\n",
       "      <td>748.0</td>\n",
       "      <td>NaN</td>\n",
       "      <td>US</td>\n",
       "      <td>US-NC</td>\n",
       "      <td>Charlotte</td>\n",
       "      <td>KCLT</td>\n",
       "      <td>CLT</td>\n",
       "      <td>CLT</td>\n",
       "      <td>-80.94309997558594, 35.2140007019043</td>\n",
       "    </tr>\n",
       "    <tr>\n",
       "      <th>30028</th>\n",
       "      <td>KSTL</td>\n",
       "      <td>large_airport</td>\n",
       "      <td>St Louis Lambert International Airport</td>\n",
       "      <td>618.0</td>\n",
       "      <td>NaN</td>\n",
       "      <td>US</td>\n",
       "      <td>US-MO</td>\n",
       "      <td>St Louis</td>\n",
       "      <td>KSTL</td>\n",
       "      <td>STL</td>\n",
       "      <td>STL</td>\n",
       "      <td>-90.370003, 38.748697</td>\n",
       "    </tr>\n",
       "    <tr>\n",
       "      <th>29902</th>\n",
       "      <td>KSAT</td>\n",
       "      <td>large_airport</td>\n",
       "      <td>San Antonio International Airport</td>\n",
       "      <td>809.0</td>\n",
       "      <td>NaN</td>\n",
       "      <td>US</td>\n",
       "      <td>US-TX</td>\n",
       "      <td>San Antonio</td>\n",
       "      <td>KSAT</td>\n",
       "      <td>SAT</td>\n",
       "      <td>SAT</td>\n",
       "      <td>-98.46980285644531, 29.533700942993164</td>\n",
       "    </tr>\n",
       "  </tbody>\n",
       "</table>\n",
       "</div>"
      ],
      "text/plain": [
       "      ident           type                                       name  \\\n",
       "28544  KPBI  large_airport           Palm Beach International Airport   \n",
       "27389  KGUS  large_airport                   Grissom Air Reserve Base   \n",
       "28394  KORF  large_airport              Norfolk International Airport   \n",
       "28369  KOMA  large_airport                            Eppley Airfield   \n",
       "26611  KDTW  large_airport  Detroit Metropolitan Wayne County Airport   \n",
       "26391  KCID  large_airport                   The Eastern Iowa Airport   \n",
       "28584  KPIT  large_airport           Pittsburgh International Airport   \n",
       "26415  KCLT  large_airport    Charlotte Douglas International Airport   \n",
       "30028  KSTL  large_airport     St Louis Lambert International Airport   \n",
       "29902  KSAT  large_airport          San Antonio International Airport   \n",
       "\n",
       "       elevation_ft continent iso_country iso_region     municipality  \\\n",
       "28544          19.0       NaN          US      US-FL  West Palm Beach   \n",
       "27389         812.0       NaN          US      US-IN             Peru   \n",
       "28394          26.0       NaN          US      US-VA          Norfolk   \n",
       "28369         984.0       NaN          US      US-NE            Omaha   \n",
       "26611         645.0       NaN          US      US-MI          Detroit   \n",
       "26391         869.0       NaN          US      US-IA     Cedar Rapids   \n",
       "28584        1203.0       NaN          US      US-PA       Pittsburgh   \n",
       "26415         748.0       NaN          US      US-NC        Charlotte   \n",
       "30028         618.0       NaN          US      US-MO         St Louis   \n",
       "29902         809.0       NaN          US      US-TX      San Antonio   \n",
       "\n",
       "      gps_code iata_code local_code                             coordinates  \n",
       "28544     KPBI       PBI        PBI   -80.09559631347656, 26.68320083618164  \n",
       "27389     KGUS       GUS        GUS      -86.1520996094, 40.648101806599996  \n",
       "28394     KORF       ORF        ORF   -76.20120239257812, 36.89459991455078  \n",
       "28369     KOMA       OMA        OMA                     -95.894096, 41.3032  \n",
       "26611     KDTW       DTW        DTW  -83.35340118408203, 42.212398529052734  \n",
       "26391     KCID       CID        CID  -91.71080017089844, 41.884700775146484  \n",
       "28584     KPIT       PIT        PIT               -80.23290253, 40.49150085  \n",
       "26415     KCLT       CLT        CLT    -80.94309997558594, 35.2140007019043  \n",
       "30028     KSTL       STL        STL                   -90.370003, 38.748697  \n",
       "29902     KSAT       SAT        SAT  -98.46980285644531, 29.533700942993164  "
      ]
     },
     "execution_count": 14,
     "metadata": {},
     "output_type": "execute_result"
    }
   ],
   "source": [
    "df_air[~df_air.iata_code.isna() & (df_air.iso_country==\"US\") & (df_air.type.isin([\"large_airport\"]))]\\\n",
    "                .sample(10)"
   ]
  },
  {
   "cell_type": "markdown",
   "metadata": {
    "editable": true
   },
   "source": [
    "### CITIES DEMOGRAPHIC DATA QUALITY ASSESSMENT"
   ]
  },
  {
   "cell_type": "code",
   "execution_count": 16,
   "metadata": {
    "editable": true
   },
   "outputs": [
    {
     "name": "stdout",
     "output_type": "stream",
     "text": [
      "(2891, 12)\n",
      "<class 'pandas.core.frame.DataFrame'>\n",
      "RangeIndex: 2891 entries, 0 to 2890\n",
      "Data columns (total 12 columns):\n",
      "City                      2891 non-null object\n",
      "State                     2891 non-null object\n",
      "Median Age                2891 non-null float64\n",
      "Male Population           2888 non-null float64\n",
      "Female Population         2888 non-null float64\n",
      "Total Population          2891 non-null int64\n",
      "Number of Veterans        2878 non-null float64\n",
      "Foreign-born              2878 non-null float64\n",
      "Average Household Size    2875 non-null float64\n",
      "State Code                2891 non-null object\n",
      "Race                      2891 non-null object\n",
      "Count                     2891 non-null int64\n",
      "dtypes: float64(6), int64(2), object(4)\n",
      "memory usage: 271.1+ KB\n"
     ]
    }
   ],
   "source": [
    "print(df.shape)\n",
    "df.info()"
   ]
  },
  {
   "cell_type": "code",
   "execution_count": 17,
   "metadata": {
    "editable": true
   },
   "outputs": [
    {
     "name": "stdout",
     "output_type": "stream",
     "text": [
      "City has 0 null values\n",
      "State has 0 null values\n",
      "Median Age has 0 null values\n",
      "Male Population has 3 null values\n",
      "Female Population has 3 null values\n",
      "Total Population has 0 null values\n",
      "Number of Veterans has 13 null values\n",
      "Foreign-born has 13 null values\n",
      "Average Household Size has 16 null values\n",
      "State Code has 0 null values\n",
      "Race has 0 null values\n",
      "Count has 0 null values\n"
     ]
    }
   ],
   "source": [
    "for col in df.columns:\n",
    "    print(f\"{col} has {df[col].isnull().sum()} null values\")"
   ]
  },
  {
   "cell_type": "code",
   "execution_count": 18,
   "metadata": {
    "editable": true
   },
   "outputs": [],
   "source": [
    "# Problem: some columns have null values\n",
    "\n",
    "# solution: since this comes from the golden source, it is better to leave them as they are for now.\n",
    "# Most columns have correct values\n",
    "# The data types as shown above are also accurate."
   ]
  },
  {
   "cell_type": "code",
   "execution_count": 19,
   "metadata": {
    "editable": true
   },
   "outputs": [
    {
     "data": {
      "text/plain": [
       "567"
      ]
     },
     "execution_count": 19,
     "metadata": {},
     "output_type": "execute_result"
    }
   ],
   "source": [
    "# Looks like it is not on the level of city granularity\n",
    "\n",
    "df['City'].unique().size"
   ]
  },
  {
   "cell_type": "code",
   "execution_count": 20,
   "metadata": {
    "editable": true
   },
   "outputs": [
    {
     "data": {
      "text/html": [
       "<div>\n",
       "<style scoped>\n",
       "    .dataframe tbody tr th:only-of-type {\n",
       "        vertical-align: middle;\n",
       "    }\n",
       "\n",
       "    .dataframe tbody tr th {\n",
       "        vertical-align: top;\n",
       "    }\n",
       "\n",
       "    .dataframe thead th {\n",
       "        text-align: right;\n",
       "    }\n",
       "</style>\n",
       "<table border=\"1\" class=\"dataframe\">\n",
       "  <thead>\n",
       "    <tr style=\"text-align: right;\">\n",
       "      <th></th>\n",
       "      <th>City</th>\n",
       "      <th>State</th>\n",
       "      <th>Median Age</th>\n",
       "      <th>Male Population</th>\n",
       "      <th>Female Population</th>\n",
       "      <th>Total Population</th>\n",
       "      <th>Number of Veterans</th>\n",
       "      <th>Foreign-born</th>\n",
       "      <th>Average Household Size</th>\n",
       "      <th>State Code</th>\n",
       "      <th>Race</th>\n",
       "      <th>Count</th>\n",
       "    </tr>\n",
       "  </thead>\n",
       "  <tbody>\n",
       "    <tr>\n",
       "      <th>0</th>\n",
       "      <td>Silver Spring</td>\n",
       "      <td>Maryland</td>\n",
       "      <td>33.8</td>\n",
       "      <td>40601.0</td>\n",
       "      <td>41862.0</td>\n",
       "      <td>82463</td>\n",
       "      <td>1562.0</td>\n",
       "      <td>30908.0</td>\n",
       "      <td>2.60</td>\n",
       "      <td>MD</td>\n",
       "      <td>Hispanic or Latino</td>\n",
       "      <td>25924</td>\n",
       "    </tr>\n",
       "    <tr>\n",
       "      <th>1</th>\n",
       "      <td>Quincy</td>\n",
       "      <td>Massachusetts</td>\n",
       "      <td>41.0</td>\n",
       "      <td>44129.0</td>\n",
       "      <td>49500.0</td>\n",
       "      <td>93629</td>\n",
       "      <td>4147.0</td>\n",
       "      <td>32935.0</td>\n",
       "      <td>2.39</td>\n",
       "      <td>MA</td>\n",
       "      <td>White</td>\n",
       "      <td>58723</td>\n",
       "    </tr>\n",
       "    <tr>\n",
       "      <th>2</th>\n",
       "      <td>Hoover</td>\n",
       "      <td>Alabama</td>\n",
       "      <td>38.5</td>\n",
       "      <td>38040.0</td>\n",
       "      <td>46799.0</td>\n",
       "      <td>84839</td>\n",
       "      <td>4819.0</td>\n",
       "      <td>8229.0</td>\n",
       "      <td>2.58</td>\n",
       "      <td>AL</td>\n",
       "      <td>Asian</td>\n",
       "      <td>4759</td>\n",
       "    </tr>\n",
       "    <tr>\n",
       "      <th>3</th>\n",
       "      <td>Rancho Cucamonga</td>\n",
       "      <td>California</td>\n",
       "      <td>34.5</td>\n",
       "      <td>88127.0</td>\n",
       "      <td>87105.0</td>\n",
       "      <td>175232</td>\n",
       "      <td>5821.0</td>\n",
       "      <td>33878.0</td>\n",
       "      <td>3.18</td>\n",
       "      <td>CA</td>\n",
       "      <td>Black or African-American</td>\n",
       "      <td>24437</td>\n",
       "    </tr>\n",
       "    <tr>\n",
       "      <th>4</th>\n",
       "      <td>Newark</td>\n",
       "      <td>New Jersey</td>\n",
       "      <td>34.6</td>\n",
       "      <td>138040.0</td>\n",
       "      <td>143873.0</td>\n",
       "      <td>281913</td>\n",
       "      <td>5829.0</td>\n",
       "      <td>86253.0</td>\n",
       "      <td>2.73</td>\n",
       "      <td>NJ</td>\n",
       "      <td>White</td>\n",
       "      <td>76402</td>\n",
       "    </tr>\n",
       "  </tbody>\n",
       "</table>\n",
       "</div>"
      ],
      "text/plain": [
       "               City          State  Median Age  Male Population  \\\n",
       "0     Silver Spring       Maryland        33.8          40601.0   \n",
       "1            Quincy  Massachusetts        41.0          44129.0   \n",
       "2            Hoover        Alabama        38.5          38040.0   \n",
       "3  Rancho Cucamonga     California        34.5          88127.0   \n",
       "4            Newark     New Jersey        34.6         138040.0   \n",
       "\n",
       "   Female Population  Total Population  Number of Veterans  Foreign-born  \\\n",
       "0            41862.0             82463              1562.0       30908.0   \n",
       "1            49500.0             93629              4147.0       32935.0   \n",
       "2            46799.0             84839              4819.0        8229.0   \n",
       "3            87105.0            175232              5821.0       33878.0   \n",
       "4           143873.0            281913              5829.0       86253.0   \n",
       "\n",
       "   Average Household Size State Code                       Race  Count  \n",
       "0                    2.60         MD         Hispanic or Latino  25924  \n",
       "1                    2.39         MA                      White  58723  \n",
       "2                    2.58         AL                      Asian   4759  \n",
       "3                    3.18         CA  Black or African-American  24437  \n",
       "4                    2.73         NJ                      White  76402  "
      ]
     },
     "execution_count": 20,
     "metadata": {},
     "output_type": "execute_result"
    }
   ],
   "source": [
    "df.head()"
   ]
  },
  {
   "cell_type": "code",
   "execution_count": 21,
   "metadata": {
    "editable": true
   },
   "outputs": [],
   "source": [
    "# Problem: The race and race counts columns are repeated for each city and state.\n",
    "# So we remove them from the table and create a lookup matching on city and state.\n",
    "\n",
    "race_counts_lookup = df.loc[:, [\"City\", \"State\", \"Race\", \"Count\"]].copy()"
   ]
  },
  {
   "cell_type": "code",
   "execution_count": 22,
   "metadata": {
    "editable": true
   },
   "outputs": [
    {
     "data": {
      "text/html": [
       "<div>\n",
       "<style scoped>\n",
       "    .dataframe tbody tr th:only-of-type {\n",
       "        vertical-align: middle;\n",
       "    }\n",
       "\n",
       "    .dataframe tbody tr th {\n",
       "        vertical-align: top;\n",
       "    }\n",
       "\n",
       "    .dataframe thead th {\n",
       "        text-align: right;\n",
       "    }\n",
       "</style>\n",
       "<table border=\"1\" class=\"dataframe\">\n",
       "  <thead>\n",
       "    <tr style=\"text-align: right;\">\n",
       "      <th></th>\n",
       "      <th>City</th>\n",
       "      <th>State</th>\n",
       "      <th>Race</th>\n",
       "      <th>Count</th>\n",
       "    </tr>\n",
       "  </thead>\n",
       "  <tbody>\n",
       "    <tr>\n",
       "      <th>0</th>\n",
       "      <td>Silver Spring</td>\n",
       "      <td>Maryland</td>\n",
       "      <td>Hispanic or Latino</td>\n",
       "      <td>25924</td>\n",
       "    </tr>\n",
       "    <tr>\n",
       "      <th>1</th>\n",
       "      <td>Quincy</td>\n",
       "      <td>Massachusetts</td>\n",
       "      <td>White</td>\n",
       "      <td>58723</td>\n",
       "    </tr>\n",
       "    <tr>\n",
       "      <th>2</th>\n",
       "      <td>Hoover</td>\n",
       "      <td>Alabama</td>\n",
       "      <td>Asian</td>\n",
       "      <td>4759</td>\n",
       "    </tr>\n",
       "    <tr>\n",
       "      <th>3</th>\n",
       "      <td>Rancho Cucamonga</td>\n",
       "      <td>California</td>\n",
       "      <td>Black or African-American</td>\n",
       "      <td>24437</td>\n",
       "    </tr>\n",
       "    <tr>\n",
       "      <th>4</th>\n",
       "      <td>Newark</td>\n",
       "      <td>New Jersey</td>\n",
       "      <td>White</td>\n",
       "      <td>76402</td>\n",
       "    </tr>\n",
       "  </tbody>\n",
       "</table>\n",
       "</div>"
      ],
      "text/plain": [
       "               City          State                       Race  Count\n",
       "0     Silver Spring       Maryland         Hispanic or Latino  25924\n",
       "1            Quincy  Massachusetts                      White  58723\n",
       "2            Hoover        Alabama                      Asian   4759\n",
       "3  Rancho Cucamonga     California  Black or African-American  24437\n",
       "4            Newark     New Jersey                      White  76402"
      ]
     },
     "execution_count": 22,
     "metadata": {},
     "output_type": "execute_result"
    }
   ],
   "source": [
    "race_counts_lookup.head()"
   ]
  },
  {
   "cell_type": "code",
   "execution_count": 61,
   "metadata": {
    "editable": true
   },
   "outputs": [
    {
     "data": {
      "text/plain": [
       "(2891, 4)"
      ]
     },
     "execution_count": 61,
     "metadata": {},
     "output_type": "execute_result"
    }
   ],
   "source": [
    "race_counts_lookup = race_counts_lookup.drop_duplicates()\n",
    "race_counts_lookup.shape"
   ]
  },
  {
   "cell_type": "code",
   "execution_count": 62,
   "metadata": {
    "editable": true
   },
   "outputs": [],
   "source": [
    "# Write race counts to file\n",
    "\n",
    "# race_counts_lookup.to_csv(\"cleaned_data/race_counts.csv\", index=False)"
   ]
  },
  {
   "cell_type": "code",
   "execution_count": 23,
   "metadata": {
    "editable": true
   },
   "outputs": [
    {
     "name": "stdout",
     "output_type": "stream",
     "text": [
      "(2891, 10)\n"
     ]
    }
   ],
   "source": [
    "df_no_race = df.drop([\"Race\", \"Count\"], axis=1)\n",
    "print(df_no_race.shape)"
   ]
  },
  {
   "cell_type": "code",
   "execution_count": 24,
   "metadata": {
    "editable": true
   },
   "outputs": [
    {
     "data": {
      "text/plain": [
       "(596, 10)"
      ]
     },
     "execution_count": 24,
     "metadata": {},
     "output_type": "execute_result"
    }
   ],
   "source": [
    "# There are 567 unique cities. So we investigate further to check why the numbers do not match\n",
    "\n",
    "df_no_race = df_no_race.drop_duplicates()\n",
    "df_no_race.shape"
   ]
  },
  {
   "cell_type": "code",
   "execution_count": 25,
   "metadata": {
    "editable": true
   },
   "outputs": [
    {
     "data": {
      "text/html": [
       "<div>\n",
       "<style scoped>\n",
       "    .dataframe tbody tr th:only-of-type {\n",
       "        vertical-align: middle;\n",
       "    }\n",
       "\n",
       "    .dataframe tbody tr th {\n",
       "        vertical-align: top;\n",
       "    }\n",
       "\n",
       "    .dataframe thead th {\n",
       "        text-align: right;\n",
       "    }\n",
       "</style>\n",
       "<table border=\"1\" class=\"dataframe\">\n",
       "  <thead>\n",
       "    <tr style=\"text-align: right;\">\n",
       "      <th></th>\n",
       "      <th></th>\n",
       "      <th>State Code</th>\n",
       "    </tr>\n",
       "    <tr>\n",
       "      <th>City</th>\n",
       "      <th>State</th>\n",
       "      <th></th>\n",
       "    </tr>\n",
       "  </thead>\n",
       "  <tbody>\n",
       "  </tbody>\n",
       "</table>\n",
       "</div>"
      ],
      "text/plain": [
       "Empty DataFrame\n",
       "Columns: [State Code]\n",
       "Index: []"
      ]
     },
     "execution_count": 25,
     "metadata": {},
     "output_type": "execute_result"
    }
   ],
   "source": [
    "# This shows that the combination of cities and states are unique.\n",
    "# i.e. same city name, but different states\n",
    "\n",
    "city_states = df_no_race.groupby([\"City\", \"State\"]).agg({\"State Code\":\"count\"})\n",
    "city_states[city_states[\"State Code\"] > 1]"
   ]
  },
  {
   "cell_type": "code",
   "execution_count": 63,
   "metadata": {
    "editable": true
   },
   "outputs": [],
   "source": [
    "# Save cleaned demographics file to disk for ETL\n",
    "\n",
    "# df_no_race.to_csv(\"cleaned_data/city_demographics_cleaned.csv\", index=False)"
   ]
  },
  {
   "cell_type": "markdown",
   "metadata": {
    "editable": true
   },
   "source": [
    "### AIRPORT CODES DATA QUALITY ASSESSMENT"
   ]
  },
  {
   "cell_type": "code",
   "execution_count": 27,
   "metadata": {
    "editable": true
   },
   "outputs": [
    {
     "name": "stdout",
     "output_type": "stream",
     "text": [
      "<class 'pandas.core.frame.DataFrame'>\n",
      "RangeIndex: 55075 entries, 0 to 55074\n",
      "Data columns (total 12 columns):\n",
      "ident           55075 non-null object\n",
      "type            55075 non-null object\n",
      "name            55075 non-null object\n",
      "elevation_ft    48069 non-null float64\n",
      "continent       27356 non-null object\n",
      "iso_country     54828 non-null object\n",
      "iso_region      55075 non-null object\n",
      "municipality    49399 non-null object\n",
      "gps_code        41030 non-null object\n",
      "iata_code       9189 non-null object\n",
      "local_code      28686 non-null object\n",
      "coordinates     55075 non-null object\n",
      "dtypes: float64(1), object(11)\n",
      "memory usage: 5.0+ MB\n"
     ]
    }
   ],
   "source": [
    "df_air.info()"
   ]
  },
  {
   "cell_type": "code",
   "execution_count": 28,
   "metadata": {
    "editable": true
   },
   "outputs": [
    {
     "name": "stdout",
     "output_type": "stream",
     "text": [
      "ident has 0.0% null values\n",
      "type has 0.0% null values\n",
      "name has 0.0% null values\n",
      "elevation_ft has 12.721% null values\n",
      "continent has 50.33% null values\n",
      "iso_country has 0.448% null values\n",
      "iso_region has 0.0% null values\n",
      "municipality has 10.306% null values\n",
      "gps_code has 25.502% null values\n",
      "iata_code has 83.315% null values\n",
      "local_code has 47.915% null values\n",
      "coordinates has 0.0% null values\n"
     ]
    }
   ],
   "source": [
    "for col in df_air.columns:\n",
    "    nulls = df_air[col].isnull().sum()\n",
    "    all_count = nulls + df_air[col].count()\n",
    "    print(f\"{col} has {round((nulls/all_count) * 100, 3)}% null values\")"
   ]
  },
  {
   "cell_type": "code",
   "execution_count": 29,
   "metadata": {
    "editable": true
   },
   "outputs": [
    {
     "data": {
      "text/html": [
       "<div>\n",
       "<style scoped>\n",
       "    .dataframe tbody tr th:only-of-type {\n",
       "        vertical-align: middle;\n",
       "    }\n",
       "\n",
       "    .dataframe tbody tr th {\n",
       "        vertical-align: top;\n",
       "    }\n",
       "\n",
       "    .dataframe thead th {\n",
       "        text-align: right;\n",
       "    }\n",
       "</style>\n",
       "<table border=\"1\" class=\"dataframe\">\n",
       "  <thead>\n",
       "    <tr style=\"text-align: right;\">\n",
       "      <th></th>\n",
       "      <th>ident</th>\n",
       "      <th>type</th>\n",
       "      <th>name</th>\n",
       "      <th>elevation_ft</th>\n",
       "      <th>continent</th>\n",
       "      <th>iso_country</th>\n",
       "      <th>iso_region</th>\n",
       "      <th>municipality</th>\n",
       "      <th>gps_code</th>\n",
       "      <th>iata_code</th>\n",
       "      <th>local_code</th>\n",
       "      <th>coordinates</th>\n",
       "    </tr>\n",
       "  </thead>\n",
       "  <tbody>\n",
       "    <tr>\n",
       "      <th>0</th>\n",
       "      <td>00A</td>\n",
       "      <td>heliport</td>\n",
       "      <td>Total Rf Heliport</td>\n",
       "      <td>11.0</td>\n",
       "      <td>NaN</td>\n",
       "      <td>US</td>\n",
       "      <td>US-PA</td>\n",
       "      <td>Bensalem</td>\n",
       "      <td>00A</td>\n",
       "      <td>NaN</td>\n",
       "      <td>00A</td>\n",
       "      <td>-74.93360137939453, 40.07080078125</td>\n",
       "    </tr>\n",
       "    <tr>\n",
       "      <th>1</th>\n",
       "      <td>00AA</td>\n",
       "      <td>small_airport</td>\n",
       "      <td>Aero B Ranch Airport</td>\n",
       "      <td>3435.0</td>\n",
       "      <td>NaN</td>\n",
       "      <td>US</td>\n",
       "      <td>US-KS</td>\n",
       "      <td>Leoti</td>\n",
       "      <td>00AA</td>\n",
       "      <td>NaN</td>\n",
       "      <td>00AA</td>\n",
       "      <td>-101.473911, 38.704022</td>\n",
       "    </tr>\n",
       "    <tr>\n",
       "      <th>2</th>\n",
       "      <td>00AK</td>\n",
       "      <td>small_airport</td>\n",
       "      <td>Lowell Field</td>\n",
       "      <td>450.0</td>\n",
       "      <td>NaN</td>\n",
       "      <td>US</td>\n",
       "      <td>US-AK</td>\n",
       "      <td>Anchor Point</td>\n",
       "      <td>00AK</td>\n",
       "      <td>NaN</td>\n",
       "      <td>00AK</td>\n",
       "      <td>-151.695999146, 59.94919968</td>\n",
       "    </tr>\n",
       "    <tr>\n",
       "      <th>3</th>\n",
       "      <td>00AL</td>\n",
       "      <td>small_airport</td>\n",
       "      <td>Epps Airpark</td>\n",
       "      <td>820.0</td>\n",
       "      <td>NaN</td>\n",
       "      <td>US</td>\n",
       "      <td>US-AL</td>\n",
       "      <td>Harvest</td>\n",
       "      <td>00AL</td>\n",
       "      <td>NaN</td>\n",
       "      <td>00AL</td>\n",
       "      <td>-86.77030181884766, 34.86479949951172</td>\n",
       "    </tr>\n",
       "    <tr>\n",
       "      <th>4</th>\n",
       "      <td>00AR</td>\n",
       "      <td>closed</td>\n",
       "      <td>Newport Hospital &amp; Clinic Heliport</td>\n",
       "      <td>237.0</td>\n",
       "      <td>NaN</td>\n",
       "      <td>US</td>\n",
       "      <td>US-AR</td>\n",
       "      <td>Newport</td>\n",
       "      <td>NaN</td>\n",
       "      <td>NaN</td>\n",
       "      <td>NaN</td>\n",
       "      <td>-91.254898, 35.6087</td>\n",
       "    </tr>\n",
       "  </tbody>\n",
       "</table>\n",
       "</div>"
      ],
      "text/plain": [
       "  ident           type                                name  elevation_ft  \\\n",
       "0   00A       heliport                   Total Rf Heliport          11.0   \n",
       "1  00AA  small_airport                Aero B Ranch Airport        3435.0   \n",
       "2  00AK  small_airport                        Lowell Field         450.0   \n",
       "3  00AL  small_airport                        Epps Airpark         820.0   \n",
       "4  00AR         closed  Newport Hospital & Clinic Heliport         237.0   \n",
       "\n",
       "  continent iso_country iso_region  municipality gps_code iata_code  \\\n",
       "0       NaN          US      US-PA      Bensalem      00A       NaN   \n",
       "1       NaN          US      US-KS         Leoti     00AA       NaN   \n",
       "2       NaN          US      US-AK  Anchor Point     00AK       NaN   \n",
       "3       NaN          US      US-AL       Harvest     00AL       NaN   \n",
       "4       NaN          US      US-AR       Newport      NaN       NaN   \n",
       "\n",
       "  local_code                            coordinates  \n",
       "0        00A     -74.93360137939453, 40.07080078125  \n",
       "1       00AA                 -101.473911, 38.704022  \n",
       "2       00AK            -151.695999146, 59.94919968  \n",
       "3       00AL  -86.77030181884766, 34.86479949951172  \n",
       "4        NaN                    -91.254898, 35.6087  "
      ]
     },
     "execution_count": 29,
     "metadata": {},
     "output_type": "execute_result"
    }
   ],
   "source": [
    "# A good number of null values however, we do not need most columns\n",
    "\n",
    "df_air.head()"
   ]
  },
  {
   "cell_type": "code",
   "execution_count": 30,
   "metadata": {
    "editable": true
   },
   "outputs": [
    {
     "data": {
      "text/plain": [
       "(20187, 12)"
      ]
     },
     "execution_count": 30,
     "metadata": {},
     "output_type": "execute_result"
    }
   ],
   "source": [
    "# Also some airports  or strips may not have an iata_code but may have a local code.\n",
    "# We look at the combination of both\n",
    "# Roughly 20k have both codes empty\n",
    "\n",
    "df_air[df_air['iata_code'].isnull() & df_air['local_code'].isnull()].shape"
   ]
  },
  {
   "cell_type": "code",
   "execution_count": 31,
   "metadata": {
    "editable": true
   },
   "outputs": [
    {
     "data": {
      "text/plain": [
       "small_airport     33965\n",
       "heliport          11287\n",
       "medium_airport     4550\n",
       "closed             3606\n",
       "seaplane_base      1016\n",
       "large_airport       627\n",
       "balloonport          24\n",
       "Name: type, dtype: int64"
      ]
     },
     "execution_count": 31,
     "metadata": {},
     "output_type": "execute_result"
    }
   ],
   "source": [
    "df_air['type'].value_counts()"
   ]
  },
  {
   "cell_type": "code",
   "execution_count": 32,
   "metadata": {
    "editable": true
   },
   "outputs": [
    {
     "data": {
      "text/plain": [
       "small_airport     13010\n",
       "heliport           3645\n",
       "closed             2866\n",
       "medium_airport      604\n",
       "seaplane_base        35\n",
       "large_airport        23\n",
       "balloonport           4\n",
       "Name: type, dtype: int64"
      ]
     },
     "execution_count": 32,
     "metadata": {},
     "output_type": "execute_result"
    }
   ],
   "source": [
    "air_code_nulls = df_air[df_air['iata_code'].isnull() & df_air['local_code'].isnull()]\n",
    "air_code_nulls['type'].value_counts()"
   ]
  },
  {
   "cell_type": "code",
   "execution_count": 33,
   "metadata": {
    "editable": true
   },
   "outputs": [
    {
     "data": {
      "text/plain": [
       "11824    PG-WPD\n",
       "8468         PA\n",
       "40356    RU-MOW\n",
       "41379     CL-LR\n",
       "22765     SR-SI\n",
       "Name: state_code, dtype: object"
      ]
     },
     "execution_count": 33,
     "metadata": {},
     "output_type": "execute_result"
    }
   ],
   "source": [
    "# We get the US state codes for later joining\n",
    "\n",
    "df_air['state_code'] = df_air['iso_region'].apply(lambda x: x.split(\"-\")[1] if x.startswith(\"US\") else x)\n",
    "df_air['state_code'].sample(5)"
   ]
  },
  {
   "cell_type": "code",
   "execution_count": 53,
   "metadata": {
    "editable": true
   },
   "outputs": [
    {
     "name": "stdout",
     "output_type": "stream",
     "text": [
      "(22757, 13)\n"
     ]
    },
    {
     "data": {
      "text/html": [
       "<div>\n",
       "<style scoped>\n",
       "    .dataframe tbody tr th:only-of-type {\n",
       "        vertical-align: middle;\n",
       "    }\n",
       "\n",
       "    .dataframe tbody tr th {\n",
       "        vertical-align: top;\n",
       "    }\n",
       "\n",
       "    .dataframe thead th {\n",
       "        text-align: right;\n",
       "    }\n",
       "</style>\n",
       "<table border=\"1\" class=\"dataframe\">\n",
       "  <thead>\n",
       "    <tr style=\"text-align: right;\">\n",
       "      <th></th>\n",
       "      <th>ident</th>\n",
       "      <th>type</th>\n",
       "      <th>name</th>\n",
       "      <th>elevation_ft</th>\n",
       "      <th>continent</th>\n",
       "      <th>iso_country</th>\n",
       "      <th>iso_region</th>\n",
       "      <th>municipality</th>\n",
       "      <th>gps_code</th>\n",
       "      <th>iata_code</th>\n",
       "      <th>local_code</th>\n",
       "      <th>coordinates</th>\n",
       "      <th>state_code</th>\n",
       "    </tr>\n",
       "  </thead>\n",
       "  <tbody>\n",
       "    <tr>\n",
       "      <th>0</th>\n",
       "      <td>00A</td>\n",
       "      <td>heliport</td>\n",
       "      <td>Total Rf Heliport</td>\n",
       "      <td>11.0</td>\n",
       "      <td>NaN</td>\n",
       "      <td>US</td>\n",
       "      <td>US-PA</td>\n",
       "      <td>Bensalem</td>\n",
       "      <td>00A</td>\n",
       "      <td>NaN</td>\n",
       "      <td>00A</td>\n",
       "      <td>-74.93360137939453, 40.07080078125</td>\n",
       "      <td>PA</td>\n",
       "    </tr>\n",
       "    <tr>\n",
       "      <th>1</th>\n",
       "      <td>00AA</td>\n",
       "      <td>small_airport</td>\n",
       "      <td>Aero B Ranch Airport</td>\n",
       "      <td>3435.0</td>\n",
       "      <td>NaN</td>\n",
       "      <td>US</td>\n",
       "      <td>US-KS</td>\n",
       "      <td>Leoti</td>\n",
       "      <td>00AA</td>\n",
       "      <td>NaN</td>\n",
       "      <td>00AA</td>\n",
       "      <td>-101.473911, 38.704022</td>\n",
       "      <td>KS</td>\n",
       "    </tr>\n",
       "    <tr>\n",
       "      <th>2</th>\n",
       "      <td>00AK</td>\n",
       "      <td>small_airport</td>\n",
       "      <td>Lowell Field</td>\n",
       "      <td>450.0</td>\n",
       "      <td>NaN</td>\n",
       "      <td>US</td>\n",
       "      <td>US-AK</td>\n",
       "      <td>Anchor Point</td>\n",
       "      <td>00AK</td>\n",
       "      <td>NaN</td>\n",
       "      <td>00AK</td>\n",
       "      <td>-151.695999146, 59.94919968</td>\n",
       "      <td>AK</td>\n",
       "    </tr>\n",
       "    <tr>\n",
       "      <th>3</th>\n",
       "      <td>00AL</td>\n",
       "      <td>small_airport</td>\n",
       "      <td>Epps Airpark</td>\n",
       "      <td>820.0</td>\n",
       "      <td>NaN</td>\n",
       "      <td>US</td>\n",
       "      <td>US-AL</td>\n",
       "      <td>Harvest</td>\n",
       "      <td>00AL</td>\n",
       "      <td>NaN</td>\n",
       "      <td>00AL</td>\n",
       "      <td>-86.77030181884766, 34.86479949951172</td>\n",
       "      <td>AL</td>\n",
       "    </tr>\n",
       "    <tr>\n",
       "      <th>4</th>\n",
       "      <td>00AR</td>\n",
       "      <td>closed</td>\n",
       "      <td>Newport Hospital &amp; Clinic Heliport</td>\n",
       "      <td>237.0</td>\n",
       "      <td>NaN</td>\n",
       "      <td>US</td>\n",
       "      <td>US-AR</td>\n",
       "      <td>Newport</td>\n",
       "      <td>NaN</td>\n",
       "      <td>NaN</td>\n",
       "      <td>NaN</td>\n",
       "      <td>-91.254898, 35.6087</td>\n",
       "      <td>AR</td>\n",
       "    </tr>\n",
       "  </tbody>\n",
       "</table>\n",
       "</div>"
      ],
      "text/plain": [
       "  ident           type                                name  elevation_ft  \\\n",
       "0   00A       heliport                   Total Rf Heliport          11.0   \n",
       "1  00AA  small_airport                Aero B Ranch Airport        3435.0   \n",
       "2  00AK  small_airport                        Lowell Field         450.0   \n",
       "3  00AL  small_airport                        Epps Airpark         820.0   \n",
       "4  00AR         closed  Newport Hospital & Clinic Heliport         237.0   \n",
       "\n",
       "  continent iso_country iso_region  municipality gps_code iata_code  \\\n",
       "0       NaN          US      US-PA      Bensalem      00A       NaN   \n",
       "1       NaN          US      US-KS         Leoti     00AA       NaN   \n",
       "2       NaN          US      US-AK  Anchor Point     00AK       NaN   \n",
       "3       NaN          US      US-AL       Harvest     00AL       NaN   \n",
       "4       NaN          US      US-AR       Newport      NaN       NaN   \n",
       "\n",
       "  local_code                            coordinates state_code  \n",
       "0        00A     -74.93360137939453, 40.07080078125         PA  \n",
       "1       00AA                 -101.473911, 38.704022         KS  \n",
       "2       00AK            -151.695999146, 59.94919968         AK  \n",
       "3       00AL  -86.77030181884766, 34.86479949951172         AL  \n",
       "4        NaN                    -91.254898, 35.6087         AR  "
      ]
     },
     "execution_count": 53,
     "metadata": {},
     "output_type": "execute_result"
    }
   ],
   "source": [
    "us_airstrips = df_air[df_air['iso_country']=='US']\n",
    "\n",
    "print(us_airstrips.shape)\n",
    "us_airstrips.head()"
   ]
  },
  {
   "cell_type": "code",
   "execution_count": 54,
   "metadata": {
    "editable": true
   },
   "outputs": [
    {
     "name": "stdout",
     "output_type": "stream",
     "text": [
      "ident has 0.0% null values\n",
      "type has 0.0% null values\n",
      "name has 0.0% null values\n",
      "elevation_ft has 1.05% null values\n",
      "continent has 99.996% null values\n",
      "iso_country has 0.0% null values\n",
      "iso_region has 0.0% null values\n",
      "municipality has 0.448% null values\n",
      "gps_code has 7.791% null values\n",
      "iata_code has 91.128% null values\n",
      "local_code has 6.684% null values\n",
      "coordinates has 0.0% null values\n",
      "state_code has 0.0% null values\n"
     ]
    }
   ],
   "source": [
    "for col in us_airstrips.columns:\n",
    "    nulls = us_airstrips[col].isnull().sum()\n",
    "    all_count = nulls + us_airstrips[col].count()\n",
    "    print(f\"{col} has {round((nulls/all_count) * 100, 3)}% null values\")"
   ]
  },
  {
   "cell_type": "code",
   "execution_count": 60,
   "metadata": {
    "editable": true
   },
   "outputs": [
    {
     "name": "stderr",
     "output_type": "stream",
     "text": [
      "/opt/conda/lib/python3.6/site-packages/pandas/core/indexing.py:1472: FutureWarning: \n",
      "Passing list-likes to .loc or [] with any missing label will raise\n",
      "KeyError in the future, you can use .reindex() as an alternative.\n",
      "\n",
      "See the documentation here:\n",
      "https://pandas.pydata.org/pandas-docs/stable/indexing.html#deprecate-loc-reindex-listlike\n",
      "  return self._getitem_tuple(key)\n"
     ]
    }
   ],
   "source": [
    "# Writing cleaned version to file\n",
    "\n",
    "#us_airstrips.loc[:, [\"ident\", \"type\", \"name\", \"elevation\", \"iso_country\", \"iso_region\", \"municipality\",\n",
    " #                    \"gps_code\", \"iata_code\", \"local_code\", \"coordinates\", \"state_code\"]]\\\n",
    "  #          .to_csv(\"cleaned_data/us_air_codes.csv\", index=False)"
   ]
  },
  {
   "cell_type": "markdown",
   "metadata": {
    "editable": true
   },
   "source": [
    "### TEMPERATURE DATA QUALITY ASSESSMENT"
   ]
  },
  {
   "cell_type": "code",
   "execution_count": 34,
   "metadata": {
    "editable": true
   },
   "outputs": [
    {
     "data": {
      "text/html": [
       "<div>\n",
       "<style scoped>\n",
       "    .dataframe tbody tr th:only-of-type {\n",
       "        vertical-align: middle;\n",
       "    }\n",
       "\n",
       "    .dataframe tbody tr th {\n",
       "        vertical-align: top;\n",
       "    }\n",
       "\n",
       "    .dataframe thead th {\n",
       "        text-align: right;\n",
       "    }\n",
       "</style>\n",
       "<table border=\"1\" class=\"dataframe\">\n",
       "  <thead>\n",
       "    <tr style=\"text-align: right;\">\n",
       "      <th></th>\n",
       "      <th>dt</th>\n",
       "      <th>AverageTemperature</th>\n",
       "      <th>AverageTemperatureUncertainty</th>\n",
       "      <th>City</th>\n",
       "      <th>Country</th>\n",
       "      <th>Latitude</th>\n",
       "      <th>Longitude</th>\n",
       "    </tr>\n",
       "  </thead>\n",
       "  <tbody>\n",
       "    <tr>\n",
       "      <th>0</th>\n",
       "      <td>1743-11-01</td>\n",
       "      <td>6.068</td>\n",
       "      <td>1.737</td>\n",
       "      <td>Århus</td>\n",
       "      <td>Denmark</td>\n",
       "      <td>57.05N</td>\n",
       "      <td>10.33E</td>\n",
       "    </tr>\n",
       "    <tr>\n",
       "      <th>1</th>\n",
       "      <td>1743-12-01</td>\n",
       "      <td>NaN</td>\n",
       "      <td>NaN</td>\n",
       "      <td>Århus</td>\n",
       "      <td>Denmark</td>\n",
       "      <td>57.05N</td>\n",
       "      <td>10.33E</td>\n",
       "    </tr>\n",
       "    <tr>\n",
       "      <th>2</th>\n",
       "      <td>1744-01-01</td>\n",
       "      <td>NaN</td>\n",
       "      <td>NaN</td>\n",
       "      <td>Århus</td>\n",
       "      <td>Denmark</td>\n",
       "      <td>57.05N</td>\n",
       "      <td>10.33E</td>\n",
       "    </tr>\n",
       "    <tr>\n",
       "      <th>3</th>\n",
       "      <td>1744-02-01</td>\n",
       "      <td>NaN</td>\n",
       "      <td>NaN</td>\n",
       "      <td>Århus</td>\n",
       "      <td>Denmark</td>\n",
       "      <td>57.05N</td>\n",
       "      <td>10.33E</td>\n",
       "    </tr>\n",
       "    <tr>\n",
       "      <th>4</th>\n",
       "      <td>1744-03-01</td>\n",
       "      <td>NaN</td>\n",
       "      <td>NaN</td>\n",
       "      <td>Århus</td>\n",
       "      <td>Denmark</td>\n",
       "      <td>57.05N</td>\n",
       "      <td>10.33E</td>\n",
       "    </tr>\n",
       "  </tbody>\n",
       "</table>\n",
       "</div>"
      ],
      "text/plain": [
       "           dt  AverageTemperature  AverageTemperatureUncertainty   City  \\\n",
       "0  1743-11-01               6.068                          1.737  Århus   \n",
       "1  1743-12-01                 NaN                            NaN  Århus   \n",
       "2  1744-01-01                 NaN                            NaN  Århus   \n",
       "3  1744-02-01                 NaN                            NaN  Århus   \n",
       "4  1744-03-01                 NaN                            NaN  Århus   \n",
       "\n",
       "   Country Latitude Longitude  \n",
       "0  Denmark   57.05N    10.33E  \n",
       "1  Denmark   57.05N    10.33E  \n",
       "2  Denmark   57.05N    10.33E  \n",
       "3  Denmark   57.05N    10.33E  \n",
       "4  Denmark   57.05N    10.33E  "
      ]
     },
     "execution_count": 34,
     "metadata": {},
     "output_type": "execute_result"
    }
   ],
   "source": [
    "df_temp.head()"
   ]
  },
  {
   "cell_type": "code",
   "execution_count": 35,
   "metadata": {
    "editable": true
   },
   "outputs": [
    {
     "name": "stdout",
     "output_type": "stream",
     "text": [
      "<class 'pandas.core.frame.DataFrame'>\n",
      "RangeIndex: 8599212 entries, 0 to 8599211\n",
      "Data columns (total 7 columns):\n",
      "dt                               object\n",
      "AverageTemperature               float64\n",
      "AverageTemperatureUncertainty    float64\n",
      "City                             object\n",
      "Country                          object\n",
      "Latitude                         object\n",
      "Longitude                        object\n",
      "dtypes: float64(2), object(5)\n",
      "memory usage: 459.2+ MB\n"
     ]
    }
   ],
   "source": [
    "df_temp.info()"
   ]
  },
  {
   "cell_type": "code",
   "execution_count": 36,
   "metadata": {
    "editable": true
   },
   "outputs": [
    {
     "data": {
      "text/plain": [
       "(4791150, 7)"
      ]
     },
     "execution_count": 36,
     "metadata": {},
     "output_type": "execute_result"
    }
   ],
   "source": [
    "# We will not be needing temperatures from the 1700 - 1899\n",
    "\n",
    "df_temp_useful = df_temp[df_temp['dt'] >= \"1900-01-01\"]\n",
    "df_temp_useful.shape"
   ]
  },
  {
   "cell_type": "code",
   "execution_count": 37,
   "metadata": {
    "editable": true
   },
   "outputs": [
    {
     "name": "stdout",
     "output_type": "stream",
     "text": [
      "dt has 0.0%  are null values. Null count: 0\n",
      "AverageTemperature has 0.064%  are null values. Null count: 3070\n",
      "AverageTemperatureUncertainty has 0.064%  are null values. Null count: 3070\n",
      "City has 0.0%  are null values. Null count: 0\n",
      "Country has 0.0%  are null values. Null count: 0\n",
      "Latitude has 0.0%  are null values. Null count: 0\n",
      "Longitude has 0.0%  are null values. Null count: 0\n"
     ]
    }
   ],
   "source": [
    "for col in df_temp_useful.columns:\n",
    "    nulls = df_temp_useful[col].isnull().sum()\n",
    "    all_count = nulls + df_temp_useful[col].count()\n",
    "    print(f\"{col} has {round((nulls/all_count) * 100, 3)}%  are null values. Null count: {nulls}\")"
   ]
  },
  {
   "cell_type": "code",
   "execution_count": 38,
   "metadata": {
    "editable": true
   },
   "outputs": [
    {
     "data": {
      "text/plain": [
       "(4788080, 7)"
      ]
     },
     "execution_count": 38,
     "metadata": {},
     "output_type": "execute_result"
    }
   ],
   "source": [
    "# Since the main column is the AverageTemperature, it makes no sense to keep rows with null AverageTemperature\n",
    "\n",
    "df_temp_useful = df_temp_useful[~df_temp_useful['AverageTemperature'].isnull()]\n",
    "df_temp_useful.shape"
   ]
  },
  {
   "cell_type": "code",
   "execution_count": 39,
   "metadata": {
    "editable": true
   },
   "outputs": [
    {
     "data": {
      "text/html": [
       "<div>\n",
       "<style scoped>\n",
       "    .dataframe tbody tr th:only-of-type {\n",
       "        vertical-align: middle;\n",
       "    }\n",
       "\n",
       "    .dataframe tbody tr th {\n",
       "        vertical-align: top;\n",
       "    }\n",
       "\n",
       "    .dataframe thead th {\n",
       "        text-align: right;\n",
       "    }\n",
       "</style>\n",
       "<table border=\"1\" class=\"dataframe\">\n",
       "  <thead>\n",
       "    <tr style=\"text-align: right;\">\n",
       "      <th></th>\n",
       "      <th>dt</th>\n",
       "      <th>AverageTemperature</th>\n",
       "      <th>AverageTemperatureUncertainty</th>\n",
       "      <th>City</th>\n",
       "      <th>Country</th>\n",
       "      <th>Latitude</th>\n",
       "      <th>Longitude</th>\n",
       "    </tr>\n",
       "  </thead>\n",
       "  <tbody>\n",
       "    <tr>\n",
       "      <th>1874</th>\n",
       "      <td>1900-01-01</td>\n",
       "      <td>-0.989</td>\n",
       "      <td>0.588</td>\n",
       "      <td>Århus</td>\n",
       "      <td>Denmark</td>\n",
       "      <td>57.05N</td>\n",
       "      <td>10.33E</td>\n",
       "    </tr>\n",
       "    <tr>\n",
       "      <th>1875</th>\n",
       "      <td>1900-02-01</td>\n",
       "      <td>-2.799</td>\n",
       "      <td>0.882</td>\n",
       "      <td>Århus</td>\n",
       "      <td>Denmark</td>\n",
       "      <td>57.05N</td>\n",
       "      <td>10.33E</td>\n",
       "    </tr>\n",
       "    <tr>\n",
       "      <th>1876</th>\n",
       "      <td>1900-03-01</td>\n",
       "      <td>0.592</td>\n",
       "      <td>0.429</td>\n",
       "      <td>Århus</td>\n",
       "      <td>Denmark</td>\n",
       "      <td>57.05N</td>\n",
       "      <td>10.33E</td>\n",
       "    </tr>\n",
       "    <tr>\n",
       "      <th>1877</th>\n",
       "      <td>1900-04-01</td>\n",
       "      <td>4.630</td>\n",
       "      <td>0.417</td>\n",
       "      <td>Århus</td>\n",
       "      <td>Denmark</td>\n",
       "      <td>57.05N</td>\n",
       "      <td>10.33E</td>\n",
       "    </tr>\n",
       "    <tr>\n",
       "      <th>1878</th>\n",
       "      <td>1900-05-01</td>\n",
       "      <td>9.576</td>\n",
       "      <td>0.521</td>\n",
       "      <td>Århus</td>\n",
       "      <td>Denmark</td>\n",
       "      <td>57.05N</td>\n",
       "      <td>10.33E</td>\n",
       "    </tr>\n",
       "  </tbody>\n",
       "</table>\n",
       "</div>"
      ],
      "text/plain": [
       "              dt  AverageTemperature  AverageTemperatureUncertainty   City  \\\n",
       "1874  1900-01-01              -0.989                          0.588  Århus   \n",
       "1875  1900-02-01              -2.799                          0.882  Århus   \n",
       "1876  1900-03-01               0.592                          0.429  Århus   \n",
       "1877  1900-04-01               4.630                          0.417  Århus   \n",
       "1878  1900-05-01               9.576                          0.521  Århus   \n",
       "\n",
       "      Country Latitude Longitude  \n",
       "1874  Denmark   57.05N    10.33E  \n",
       "1875  Denmark   57.05N    10.33E  \n",
       "1876  Denmark   57.05N    10.33E  \n",
       "1877  Denmark   57.05N    10.33E  \n",
       "1878  Denmark   57.05N    10.33E  "
      ]
     },
     "execution_count": 39,
     "metadata": {},
     "output_type": "execute_result"
    }
   ],
   "source": [
    "# Temperature is currently on a monthly basis.\n",
    "# Dataset looks good.\n",
    "\n",
    "df_temp_useful.head()"
   ]
  },
  {
   "cell_type": "code",
   "execution_count": 52,
   "metadata": {
    "editable": true
   },
   "outputs": [],
   "source": [
    "# Save this cleaned version for the ETL pipeline\n",
    "\n",
    "# df_temp_useful.to_csv(\"cleaned_data/GlobalTemperature_clean.csv\", index=False)"
   ]
  },
  {
   "cell_type": "markdown",
   "metadata": {
    "editable": true
   },
   "source": [
    "### IMMIGRATION DATA QUALITY ASSESSMENT"
   ]
  },
  {
   "cell_type": "code",
   "execution_count": 64,
   "metadata": {
    "editable": true
   },
   "outputs": [],
   "source": [
    "# View the data\n",
    "\n",
    "df_immig=spark.read.parquet(\"sas_data\")"
   ]
  },
  {
   "cell_type": "code",
   "execution_count": 65,
   "metadata": {
    "editable": true
   },
   "outputs": [
    {
     "name": "stdout",
     "output_type": "stream",
     "text": [
      "root\n",
      " |-- cicid: double (nullable = true)\n",
      " |-- i94yr: double (nullable = true)\n",
      " |-- i94mon: double (nullable = true)\n",
      " |-- i94cit: double (nullable = true)\n",
      " |-- i94res: double (nullable = true)\n",
      " |-- i94port: string (nullable = true)\n",
      " |-- arrdate: double (nullable = true)\n",
      " |-- i94mode: double (nullable = true)\n",
      " |-- i94addr: string (nullable = true)\n",
      " |-- depdate: double (nullable = true)\n",
      " |-- i94bir: double (nullable = true)\n",
      " |-- i94visa: double (nullable = true)\n",
      " |-- count: double (nullable = true)\n",
      " |-- dtadfile: string (nullable = true)\n",
      " |-- visapost: string (nullable = true)\n",
      " |-- occup: string (nullable = true)\n",
      " |-- entdepa: string (nullable = true)\n",
      " |-- entdepd: string (nullable = true)\n",
      " |-- entdepu: string (nullable = true)\n",
      " |-- matflag: string (nullable = true)\n",
      " |-- biryear: double (nullable = true)\n",
      " |-- dtaddto: string (nullable = true)\n",
      " |-- gender: string (nullable = true)\n",
      " |-- insnum: string (nullable = true)\n",
      " |-- airline: string (nullable = true)\n",
      " |-- admnum: double (nullable = true)\n",
      " |-- fltno: string (nullable = true)\n",
      " |-- visatype: string (nullable = true)\n",
      "\n"
     ]
    }
   ],
   "source": [
    "df_immig.printSchema()"
   ]
  },
  {
   "cell_type": "code",
   "execution_count": 66,
   "metadata": {
    "editable": true
   },
   "outputs": [
    {
     "data": {
      "text/plain": [
       "3096313"
      ]
     },
     "execution_count": 66,
     "metadata": {},
     "output_type": "execute_result"
    }
   ],
   "source": [
    "df_immig.count()"
   ]
  },
  {
   "cell_type": "code",
   "execution_count": 67,
   "metadata": {
    "editable": true
   },
   "outputs": [
    {
     "name": "stdout",
     "output_type": "stream",
     "text": [
      "+---------+------+------+------+------+-------+-------+-------+-------+-------+------+-------+-----+--------+--------+-----+-------+-------+-------+-------+-------+--------+------+------+-------+--------------+-----+--------+\n",
      "|    cicid| i94yr|i94mon|i94cit|i94res|i94port|arrdate|i94mode|i94addr|depdate|i94bir|i94visa|count|dtadfile|visapost|occup|entdepa|entdepd|entdepu|matflag|biryear| dtaddto|gender|insnum|airline|        admnum|fltno|visatype|\n",
      "+---------+------+------+------+------+-------+-------+-------+-------+-------+------+-------+-----+--------+--------+-----+-------+-------+-------+-------+-------+--------+------+------+-------+--------------+-----+--------+\n",
      "|5748517.0|2016.0|   4.0| 245.0| 438.0|    LOS|20574.0|    1.0|     CA|20582.0|  40.0|    1.0|  1.0|20160430|     SYD| null|      G|      O|   null|      M| 1976.0|10292016|     F|  null|     QF|9.495387003E10|00011|      B1|\n",
      "|5748518.0|2016.0|   4.0| 245.0| 438.0|    LOS|20574.0|    1.0|     NV|20591.0|  32.0|    1.0|  1.0|20160430|     SYD| null|      G|      O|   null|      M| 1984.0|10292016|     F|  null|     VA|9.495562283E10|00007|      B1|\n",
      "|5748519.0|2016.0|   4.0| 245.0| 438.0|    LOS|20574.0|    1.0|     WA|20582.0|  29.0|    1.0|  1.0|20160430|     SYD| null|      G|      O|   null|      M| 1987.0|10292016|     M|  null|     DL|9.495640653E10|00040|      B1|\n",
      "|5748520.0|2016.0|   4.0| 245.0| 438.0|    LOS|20574.0|    1.0|     WA|20588.0|  29.0|    1.0|  1.0|20160430|     SYD| null|      G|      O|   null|      M| 1987.0|10292016|     F|  null|     DL|9.495645143E10|00040|      B1|\n",
      "|5748521.0|2016.0|   4.0| 245.0| 438.0|    LOS|20574.0|    1.0|     WA|20588.0|  28.0|    1.0|  1.0|20160430|     SYD| null|      G|      O|   null|      M| 1988.0|10292016|     M|  null|     DL|9.495638813E10|00040|      B1|\n",
      "+---------+------+------+------+------+-------+-------+-------+-------+-------+------+-------+-----+--------+--------+-----+-------+-------+-------+-------+-------+--------+------+------+-------+--------------+-----+--------+\n",
      "only showing top 5 rows\n",
      "\n"
     ]
    }
   ],
   "source": [
    "df_immig.show(5)"
   ]
  },
  {
   "cell_type": "code",
   "execution_count": null,
   "metadata": {
    "editable": true
   },
   "outputs": [],
   "source": [
    "# As this is the main table, we use as is in the ETL"
   ]
  },
  {
   "cell_type": "markdown",
   "metadata": {
    "editable": true
   },
   "source": [
    "## GET CATEGORY DATA FROM SAS SHEET"
   ]
  },
  {
   "cell_type": "code",
   "execution_count": 41,
   "metadata": {
    "editable": true
   },
   "outputs": [],
   "source": [
    "def create_lookup_data(filename, column_name, output_file_name):\n",
    "    with open(filename, 'r') as f:\n",
    "        i94_lookup_file = f.readlines()\n",
    "        i94_mode = [line.strip().replace(\"'\", \"\").replace(\" \", \"\",2).split(\"=\") for line in i94_lookup_file]\n",
    "        df = pd.DataFrame(i94_mode, columns=['Code',column_name])\n",
    "        df.to_csv(output_file_name, index=False)\n",
    "\n",
    "def create_lookup_data_tight(filename, column_name, output_file_name):\n",
    "    with open(filename, 'r') as f:\n",
    "        i94_lookup_file = f.readlines()\n",
    "        i94_mode = [line.strip().replace(\"'\", \"\").split(\"=\") for line in i94_lookup_file]\n",
    "        df = pd.DataFrame(i94_mode, columns=['Code',column_name])\n",
    "        df.to_csv(output_file_name, index=False)"
   ]
  },
  {
   "cell_type": "code",
   "execution_count": null,
   "metadata": {
    "editable": true
   },
   "outputs": [],
   "source": [
    "# create_lookup_data('I94MODE.txt', 'Mode', 'I94MODE_output.csv')"
   ]
  },
  {
   "cell_type": "code",
   "execution_count": null,
   "metadata": {
    "editable": true
   },
   "outputs": [],
   "source": [
    "#create_lookup_data('I94COUNTRY.txt', 'Country', 'I94COUNTRY_output.csv')"
   ]
  },
  {
   "cell_type": "code",
   "execution_count": null,
   "metadata": {
    "editable": true
   },
   "outputs": [],
   "source": [
    "# create_lookup_data_tight('I94US_CITIES.txt', 'US_city', 'I94US_CITIES.csv' )"
   ]
  },
  {
   "cell_type": "code",
   "execution_count": null,
   "metadata": {
    "editable": true
   },
   "outputs": [],
   "source": [
    "# create_lookup_data('I94PORT.txt', 'Ports', 'I94PORTS.csv')"
   ]
  },
  {
   "cell_type": "code",
   "execution_count": null,
   "metadata": {
    "editable": true
   },
   "outputs": [],
   "source": [
    "# create_lookup_data('I94STATE_CODES.txt', 'US_State_Codes', 'I94STATE_CODES.csv')"
   ]
  },
  {
   "cell_type": "code",
   "execution_count": null,
   "metadata": {
    "editable": true
   },
   "outputs": [],
   "source": [
    "# create_lookup_data('I94VISA.txt', 'Visa_type', 'I94VISA.csv')"
   ]
  },
  {
   "cell_type": "code",
   "execution_count": null,
   "metadata": {
    "editable": true
   },
   "outputs": [],
   "source": []
  },
  {
   "cell_type": "markdown",
   "metadata": {
    "editable": true
   },
   "source": []
  },
  {
   "cell_type": "code",
   "execution_count": 42,
   "metadata": {
    "editable": true
   },
   "outputs": [
    {
     "data": {
      "text/html": [
       "<div>\n",
       "<style scoped>\n",
       "    .dataframe tbody tr th:only-of-type {\n",
       "        vertical-align: middle;\n",
       "    }\n",
       "\n",
       "    .dataframe tbody tr th {\n",
       "        vertical-align: top;\n",
       "    }\n",
       "\n",
       "    .dataframe thead th {\n",
       "        text-align: right;\n",
       "    }\n",
       "</style>\n",
       "<table border=\"1\" class=\"dataframe\">\n",
       "  <thead>\n",
       "    <tr style=\"text-align: right;\">\n",
       "      <th></th>\n",
       "      <th>Code</th>\n",
       "      <th>Country</th>\n",
       "    </tr>\n",
       "  </thead>\n",
       "  <tbody>\n",
       "    <tr>\n",
       "      <th>0</th>\n",
       "      <td>582</td>\n",
       "      <td>MEXICO Air Sea, and Not Reported (I-94, no la...</td>\n",
       "    </tr>\n",
       "    <tr>\n",
       "      <th>1</th>\n",
       "      <td>236</td>\n",
       "      <td>AFGHANISTAN</td>\n",
       "    </tr>\n",
       "    <tr>\n",
       "      <th>2</th>\n",
       "      <td>101</td>\n",
       "      <td>ALBANIA</td>\n",
       "    </tr>\n",
       "    <tr>\n",
       "      <th>3</th>\n",
       "      <td>316</td>\n",
       "      <td>ALGERIA</td>\n",
       "    </tr>\n",
       "    <tr>\n",
       "      <th>4</th>\n",
       "      <td>102</td>\n",
       "      <td>ANDORRA</td>\n",
       "    </tr>\n",
       "  </tbody>\n",
       "</table>\n",
       "</div>"
      ],
      "text/plain": [
       "   Code                                            Country\n",
       "0   582   MEXICO Air Sea, and Not Reported (I-94, no la...\n",
       "1   236                                        AFGHANISTAN\n",
       "2   101                                            ALBANIA\n",
       "3   316                                            ALGERIA\n",
       "4   102                                            ANDORRA"
      ]
     },
     "execution_count": 42,
     "metadata": {},
     "output_type": "execute_result"
    }
   ],
   "source": [
    "# Join Temperature to Country Codes lookup from immigration dataset to get enrich with Country codes which\n",
    "# allows us join back to immigration fact table\n",
    "\n",
    "immig_cc = pd.read_csv(\"I94COUNTRY_output.csv\")\n",
    "immig_cc.head()"
   ]
  },
  {
   "cell_type": "code",
   "execution_count": 43,
   "metadata": {
    "editable": true
   },
   "outputs": [],
   "source": [
    "immig_cc['Country'] = immig_cc['Country'].str.lower().str.strip()\n",
    "df_temp_useful['Country'] = df_temp_useful['Country'].str.lower()\n",
    "\n",
    "df_temp_country = df_temp_useful.merge(immig_cc, how=\"left\", left_on=\"Country\", right_on=\"Country\")"
   ]
  },
  {
   "cell_type": "code",
   "execution_count": 44,
   "metadata": {
    "editable": true
   },
   "outputs": [
    {
     "data": {
      "text/plain": [
       "array(['mexico air sea, and not reported (i-94, no land arrivals)',\n",
       "       'afghanistan', 'albania', 'algeria', 'andorra', 'angola',\n",
       "       'anguilla', 'antigua-barbuda', 'argentina', 'armenia', 'aruba',\n",
       "       'australia', 'austria', 'azerbaijan', 'bahamas', 'bahrain',\n",
       "       'bangladesh', 'barbados', 'belgium', 'belize', 'benin', 'bermuda',\n",
       "       'belarus', 'bhutan', 'bolivia', 'bonaire, st eustatius, saba',\n",
       "       'bosnia-herzegovina', 'botswana', 'brazil',\n",
       "       'british virgin islands', 'brunei', 'bulgaria', 'burkina faso',\n",
       "       'burma', 'burundi', 'cameroon', 'cape verde', 'cayman islands',\n",
       "       'central african republic', 'chad', 'chile', 'china, prc',\n",
       "       'curacao', 'christmas island', 'cocos islands', 'colombia',\n",
       "       'comoros', 'congo', 'cook islands', 'costa rica', 'croatia', 'cuba',\n",
       "       'cyprus', 'czech republic', 'faroe islands (part of denmark)',\n",
       "       'denmark', 'djibouti', 'dominica', 'dominican republic',\n",
       "       'east timor', 'ecuador', 'egypt', 'el salvador',\n",
       "       'equatorial guinea', 'eritrea', 'estonia', 'ethiopia',\n",
       "       'falkland islands', 'fiji', 'finland', 'france', 'french guiana',\n",
       "       'french polynesia', 'gabon', 'gambia', 'gaza strip', 'georgia',\n",
       "       'germany', 'ghana', 'gibraltar', 'greece', 'grenada', 'guadeloupe',\n",
       "       'guatemala', 'guinea', 'guinea-bissau', 'guyana', 'haiti',\n",
       "       'heard and mcdonald is.', 'holy see/vatican', 'honduras',\n",
       "       'hong kong', 'hungary', 'iceland', 'india',\n",
       "       'indian ocean areas (french)', 'indian ocean territory',\n",
       "       'indonesia', 'iran', 'iraq', 'ireland', 'israel', 'italy',\n",
       "       'ivory coast', 'jamaica', 'japan', 'jordan', 'kampuchea',\n",
       "       'kazakhstan', 'kenya', 'kiribati', 'kosovo', 'kuwait', 'kyrgyzstan',\n",
       "       'laos', 'latvia', 'lebanon', 'lesotho', 'liberia', 'libya',\n",
       "       'liechtenstein', 'lithuania', 'luxembourg', 'macau', 'macedonia',\n",
       "       'madagascar', 'malawi', 'malaysia', 'maldives', 'mali', 'malta',\n",
       "       'marshall islands', 'martinique', 'mauritania', 'mauritius',\n",
       "       'mayotte (africa - french)', 'micronesia, fed. states of',\n",
       "       'moldova', 'monaco', 'mongolia', 'montenegro', 'montserrat',\n",
       "       'morocco', 'mozambique', 'namibia', 'nauru', 'nepal', 'netherlands',\n",
       "       'netherlands antilles', 'new caledonia', 'new zealand', 'nicaragua',\n",
       "       'niger', 'nigeria', 'niue', 'north korea', 'norway', 'oman',\n",
       "       'pakistan', 'palau', 'palestine', 'panama', 'papua new guinea',\n",
       "       'paraguay', 'peru', 'philippines', 'pitcairn islands', 'poland',\n",
       "       'portugal', 'qatar', 'republic of south sudan', 'reunion',\n",
       "       'romania', 'russia', 'rwanda', 'san marino',\n",
       "       'sao tome and principe', 'saudi arabia', 'senegal',\n",
       "       'serbia and montenegro', 'serbia', 'seychelles', 'sierra leone',\n",
       "       'singapore', 'slovakia', 'slovenia', 'solomon islands', 'somalia',\n",
       "       'south africa', 'south korea', 'spain', 'sri lanka', 'st. helena',\n",
       "       'st. kitts-nevis', 'st. lucia', 'st. pierre and miquelon',\n",
       "       'st. vincent-grenadines', 'saint barthelemy', 'saint martin',\n",
       "       'saint maarten', 'sudan', 'suriname', 'swaziland', 'sweden',\n",
       "       'switzerland', 'syria', 'taiwan', 'tajikistan', 'tanzania',\n",
       "       'thailand', 'togo', 'tonga', 'trinidad and tobago', 'tunisia',\n",
       "       'turkey', 'turkmenistan', 'turks and caicos islands', 'tuvalu',\n",
       "       'uganda', 'ukraine', 'united arab emirates', 'united kingdom',\n",
       "       'uruguay', 'uzbekistan', 'vanuatu', 'venezuela', 'vietnam',\n",
       "       'wallis and futuna islands', 'west indies (french)',\n",
       "       'western sahara', 'western samoa', 'yemen', 'yugoslavia', 'zaire',\n",
       "       'zambia', 'zimbabwe', 'invalid: american samoa',\n",
       "       'invalid: antarctica', 'invalid: born on board ship',\n",
       "       'invalid: bouvet island (antarctica/norway terr.)',\n",
       "       'invalid: canada', 'invalid: canton and enderbury isls',\n",
       "       'invalid: czechoslovakia',\n",
       "       'invalid: dronning maud land (antarctica-norway)',\n",
       "       'invalid: french southern and antarctic', 'invalid: greenland',\n",
       "       'invalid: guam', 'invalid: international waters',\n",
       "       'invalid: johnson island', 'invalid: mariana islands, northern',\n",
       "       'invalid: midway islands', 'invalid: minor outlying islands - usa',\n",
       "       'invalid: neutral zone (s. arabia/iraq)',\n",
       "       'invalid: non-quota immigrant', 'invalid: puerto rico',\n",
       "       'invalid: stateless', 'invalid: united states', 'invalid: unknown',\n",
       "       'invalid: unknown country', 'invalid: ussr',\n",
       "       'invalid: u.s. virgin islands', 'invalid: wake island',\n",
       "       'collapsed tanzania (should not show)',\n",
       "       'collapsed curacao (should not show)', 'no country code (54)',\n",
       "       'no country code (100)', 'no country code (187)',\n",
       "       'no country code (190)', 'no country code (200)',\n",
       "       'no country code (219)', 'no country code (238)',\n",
       "       'no country code (277)', 'no country code (293)',\n",
       "       'no country code (300)', 'no country code (319)',\n",
       "       'no country code (365)', 'no country code (395)',\n",
       "       'no country code (400)', 'no country code (485)',\n",
       "       'no country code (503)', 'no country code (589)',\n",
       "       'no country code (592)', 'no country code (791)',\n",
       "       'no country code (849)', 'no country code (914)',\n",
       "       'no country code (944)', 'no country code (996)'], dtype=object)"
      ]
     },
     "execution_count": 44,
     "metadata": {},
     "output_type": "execute_result"
    }
   ],
   "source": [
    "immig_cc['Country'].unique()"
   ]
  },
  {
   "cell_type": "code",
   "execution_count": 45,
   "metadata": {
    "editable": true
   },
   "outputs": [
    {
     "name": "stdout",
     "output_type": "stream",
     "text": [
      "(4788080, 8)\n",
      "1098401\n"
     ]
    },
    {
     "data": {
      "text/html": [
       "<div>\n",
       "<style scoped>\n",
       "    .dataframe tbody tr th:only-of-type {\n",
       "        vertical-align: middle;\n",
       "    }\n",
       "\n",
       "    .dataframe tbody tr th {\n",
       "        vertical-align: top;\n",
       "    }\n",
       "\n",
       "    .dataframe thead th {\n",
       "        text-align: right;\n",
       "    }\n",
       "</style>\n",
       "<table border=\"1\" class=\"dataframe\">\n",
       "  <thead>\n",
       "    <tr style=\"text-align: right;\">\n",
       "      <th></th>\n",
       "      <th>dt</th>\n",
       "      <th>AverageTemperature</th>\n",
       "      <th>AverageTemperatureUncertainty</th>\n",
       "      <th>City</th>\n",
       "      <th>Country</th>\n",
       "      <th>Latitude</th>\n",
       "      <th>Longitude</th>\n",
       "      <th>Code</th>\n",
       "    </tr>\n",
       "  </thead>\n",
       "  <tbody>\n",
       "    <tr>\n",
       "      <th>1003069</th>\n",
       "      <td>1936-10-01</td>\n",
       "      <td>28.428</td>\n",
       "      <td>0.522</td>\n",
       "      <td>Cuiabá</td>\n",
       "      <td>brazil</td>\n",
       "      <td>15.27S</td>\n",
       "      <td>55.83W</td>\n",
       "      <td>689.0</td>\n",
       "    </tr>\n",
       "    <tr>\n",
       "      <th>477090</th>\n",
       "      <td>1985-05-01</td>\n",
       "      <td>12.308</td>\n",
       "      <td>0.247</td>\n",
       "      <td>Besançon</td>\n",
       "      <td>france</td>\n",
       "      <td>47.42N</td>\n",
       "      <td>5.92E</td>\n",
       "      <td>111.0</td>\n",
       "    </tr>\n",
       "    <tr>\n",
       "      <th>3526909</th>\n",
       "      <td>1954-12-01</td>\n",
       "      <td>-5.006</td>\n",
       "      <td>0.343</td>\n",
       "      <td>Reykjavík</td>\n",
       "      <td>iceland</td>\n",
       "      <td>65.09N</td>\n",
       "      <td>21.06W</td>\n",
       "      <td>115.0</td>\n",
       "    </tr>\n",
       "    <tr>\n",
       "      <th>2885079</th>\n",
       "      <td>2011-08-01</td>\n",
       "      <td>26.679</td>\n",
       "      <td>0.221</td>\n",
       "      <td>Nazilli</td>\n",
       "      <td>turkey</td>\n",
       "      <td>37.78N</td>\n",
       "      <td>28.47E</td>\n",
       "      <td>264.0</td>\n",
       "    </tr>\n",
       "    <tr>\n",
       "      <th>1871963</th>\n",
       "      <td>1932-01-01</td>\n",
       "      <td>18.835</td>\n",
       "      <td>0.532</td>\n",
       "      <td>Jamshedpur</td>\n",
       "      <td>india</td>\n",
       "      <td>23.31N</td>\n",
       "      <td>86.50E</td>\n",
       "      <td>213.0</td>\n",
       "    </tr>\n",
       "    <tr>\n",
       "      <th>3450641</th>\n",
       "      <td>1964-12-01</td>\n",
       "      <td>16.869</td>\n",
       "      <td>0.179</td>\n",
       "      <td>Quito</td>\n",
       "      <td>ecuador</td>\n",
       "      <td>0.80S</td>\n",
       "      <td>77.95W</td>\n",
       "      <td>692.0</td>\n",
       "    </tr>\n",
       "    <tr>\n",
       "      <th>4694064</th>\n",
       "      <td>1908-09-01</td>\n",
       "      <td>20.250</td>\n",
       "      <td>0.342</td>\n",
       "      <td>Yonago</td>\n",
       "      <td>japan</td>\n",
       "      <td>36.17N</td>\n",
       "      <td>133.26E</td>\n",
       "      <td>209.0</td>\n",
       "    </tr>\n",
       "    <tr>\n",
       "      <th>4763240</th>\n",
       "      <td>1989-09-01</td>\n",
       "      <td>28.126</td>\n",
       "      <td>0.327</td>\n",
       "      <td>Zhuhai</td>\n",
       "      <td>china</td>\n",
       "      <td>21.70N</td>\n",
       "      <td>113.37E</td>\n",
       "      <td>NaN</td>\n",
       "    </tr>\n",
       "    <tr>\n",
       "      <th>943439</th>\n",
       "      <td>1970-01-01</td>\n",
       "      <td>17.375</td>\n",
       "      <td>0.419</td>\n",
       "      <td>Colima</td>\n",
       "      <td>mexico</td>\n",
       "      <td>20.09N</td>\n",
       "      <td>104.08W</td>\n",
       "      <td>NaN</td>\n",
       "    </tr>\n",
       "    <tr>\n",
       "      <th>4689664</th>\n",
       "      <td>1996-09-01</td>\n",
       "      <td>23.351</td>\n",
       "      <td>0.298</td>\n",
       "      <td>Yizheng</td>\n",
       "      <td>china</td>\n",
       "      <td>32.95N</td>\n",
       "      <td>119.68E</td>\n",
       "      <td>NaN</td>\n",
       "    </tr>\n",
       "  </tbody>\n",
       "</table>\n",
       "</div>"
      ],
      "text/plain": [
       "                 dt  AverageTemperature  AverageTemperatureUncertainty  \\\n",
       "1003069  1936-10-01              28.428                          0.522   \n",
       "477090   1985-05-01              12.308                          0.247   \n",
       "3526909  1954-12-01              -5.006                          0.343   \n",
       "2885079  2011-08-01              26.679                          0.221   \n",
       "1871963  1932-01-01              18.835                          0.532   \n",
       "3450641  1964-12-01              16.869                          0.179   \n",
       "4694064  1908-09-01              20.250                          0.342   \n",
       "4763240  1989-09-01              28.126                          0.327   \n",
       "943439   1970-01-01              17.375                          0.419   \n",
       "4689664  1996-09-01              23.351                          0.298   \n",
       "\n",
       "               City  Country Latitude Longitude   Code  \n",
       "1003069      Cuiabá   brazil   15.27S    55.83W  689.0  \n",
       "477090     Besançon   france   47.42N     5.92E  111.0  \n",
       "3526909   Reykjavík  iceland   65.09N    21.06W  115.0  \n",
       "2885079     Nazilli   turkey   37.78N    28.47E  264.0  \n",
       "1871963  Jamshedpur    india   23.31N    86.50E  213.0  \n",
       "3450641       Quito  ecuador    0.80S    77.95W  692.0  \n",
       "4694064      Yonago    japan   36.17N   133.26E  209.0  \n",
       "4763240      Zhuhai    china   21.70N   113.37E    NaN  \n",
       "943439       Colima   mexico   20.09N   104.08W    NaN  \n",
       "4689664     Yizheng    china   32.95N   119.68E    NaN  "
      ]
     },
     "execution_count": 45,
     "metadata": {},
     "output_type": "execute_result"
    }
   ],
   "source": [
    "# some countries do not get a code.\n",
    "\n",
    "print(df_temp_country.shape)\n",
    "print(df_temp_country['Code'].isnull().sum())\n",
    "\n",
    "\n",
    "df_temp_country.sample(10)"
   ]
  },
  {
   "cell_type": "code",
   "execution_count": 46,
   "metadata": {
    "editable": true
   },
   "outputs": [
    {
     "data": {
      "text/plain": [
       "array(['china', 'canada', \"côte d'ivoire\", 'united states', 'mexico',\n",
       "       'congo (democratic republic of the)', 'bosnia and herzegovina',\n",
       "       'guinea bissau', 'puerto rico', 'cambodia'], dtype=object)"
      ]
     },
     "execution_count": 46,
     "metadata": {},
     "output_type": "execute_result"
    }
   ],
   "source": [
    "df_temp_country[df_temp_country['Code'].isnull()]['Country'].unique()"
   ]
  },
  {
   "cell_type": "code",
   "execution_count": 47,
   "metadata": {
    "editable": true
   },
   "outputs": [],
   "source": [
    "def clean_country_join_column(x):\n",
    "    lookup = {'china, prc':'china',\n",
    "              'ivory coast': \"côte d'ivoire\",\n",
    "              'mexico air sea, and not reported (i-94, no land arrivals)':'mexico',\n",
    "              'bosnia-herzegovina': 'bosnia and herzegovina',\n",
    "              'guinea-bissau': 'guinea bissau'}\n",
    "    \n",
    "    return lookup[x] if x in lookup else x\n",
    "\n",
    "\n",
    "immig_cc['Country_for_join'] = immig_cc['Country'].apply(clean_country_join_column)"
   ]
  },
  {
   "cell_type": "code",
   "execution_count": 48,
   "metadata": {
    "editable": true
   },
   "outputs": [],
   "source": [
    "# We join again\n",
    "\n",
    "df_temp_country = df_temp_useful.merge(immig_cc, how=\"left\", left_on=\"Country\", right_on=\"Country_for_join\")"
   ]
  },
  {
   "cell_type": "code",
   "execution_count": 49,
   "metadata": {
    "editable": true
   },
   "outputs": [
    {
     "name": "stdout",
     "output_type": "stream",
     "text": [
      "(4788080, 10)\n",
      "421760\n"
     ]
    }
   ],
   "source": [
    "# Some countries like Cambodia, United States and Puerto Rico do not appear in the immigration data\n",
    "\n",
    "print(df_temp_country.shape)\n",
    "print(df_temp_country['Code'].isnull().sum())"
   ]
  },
  {
   "cell_type": "code",
   "execution_count": 50,
   "metadata": {
    "editable": true
   },
   "outputs": [
    {
     "data": {
      "text/html": [
       "<div>\n",
       "<style scoped>\n",
       "    .dataframe tbody tr th:only-of-type {\n",
       "        vertical-align: middle;\n",
       "    }\n",
       "\n",
       "    .dataframe tbody tr th {\n",
       "        vertical-align: top;\n",
       "    }\n",
       "\n",
       "    .dataframe thead th {\n",
       "        text-align: right;\n",
       "    }\n",
       "</style>\n",
       "<table border=\"1\" class=\"dataframe\">\n",
       "  <thead>\n",
       "    <tr style=\"text-align: right;\">\n",
       "      <th></th>\n",
       "      <th>dt</th>\n",
       "      <th>AverageTemperature</th>\n",
       "      <th>AverageTemperatureUncertainty</th>\n",
       "      <th>City</th>\n",
       "      <th>Country_x</th>\n",
       "      <th>Latitude</th>\n",
       "      <th>Longitude</th>\n",
       "      <th>Code</th>\n",
       "      <th>Country_y</th>\n",
       "      <th>Country_for_join</th>\n",
       "    </tr>\n",
       "  </thead>\n",
       "  <tbody>\n",
       "    <tr>\n",
       "      <th>2085689</th>\n",
       "      <td>2010-02-01</td>\n",
       "      <td>-1.205</td>\n",
       "      <td>0.378</td>\n",
       "      <td>Kelowna</td>\n",
       "      <td>canada</td>\n",
       "      <td>49.03N</td>\n",
       "      <td>120.00W</td>\n",
       "      <td>NaN</td>\n",
       "      <td>NaN</td>\n",
       "      <td>NaN</td>\n",
       "    </tr>\n",
       "    <tr>\n",
       "      <th>610706</th>\n",
       "      <td>1980-07-01</td>\n",
       "      <td>15.651</td>\n",
       "      <td>0.233</td>\n",
       "      <td>Breda</td>\n",
       "      <td>netherlands</td>\n",
       "      <td>52.24N</td>\n",
       "      <td>5.26E</td>\n",
       "      <td>123.0</td>\n",
       "      <td>netherlands</td>\n",
       "      <td>netherlands</td>\n",
       "    </tr>\n",
       "    <tr>\n",
       "      <th>3007592</th>\n",
       "      <td>1989-11-01</td>\n",
       "      <td>12.812</td>\n",
       "      <td>0.253</td>\n",
       "      <td>Oakland</td>\n",
       "      <td>united states</td>\n",
       "      <td>37.78N</td>\n",
       "      <td>122.03W</td>\n",
       "      <td>NaN</td>\n",
       "      <td>NaN</td>\n",
       "      <td>NaN</td>\n",
       "    </tr>\n",
       "    <tr>\n",
       "      <th>517912</th>\n",
       "      <td>1977-03-01</td>\n",
       "      <td>26.739</td>\n",
       "      <td>0.570</td>\n",
       "      <td>Bihar</td>\n",
       "      <td>india</td>\n",
       "      <td>24.92N</td>\n",
       "      <td>85.12E</td>\n",
       "      <td>213.0</td>\n",
       "      <td>india</td>\n",
       "      <td>india</td>\n",
       "    </tr>\n",
       "    <tr>\n",
       "      <th>264952</th>\n",
       "      <td>1926-06-01</td>\n",
       "      <td>18.140</td>\n",
       "      <td>0.468</td>\n",
       "      <td>Aurora</td>\n",
       "      <td>united states</td>\n",
       "      <td>39.38N</td>\n",
       "      <td>104.05W</td>\n",
       "      <td>NaN</td>\n",
       "      <td>NaN</td>\n",
       "      <td>NaN</td>\n",
       "    </tr>\n",
       "    <tr>\n",
       "      <th>1627192</th>\n",
       "      <td>1995-10-01</td>\n",
       "      <td>17.631</td>\n",
       "      <td>0.140</td>\n",
       "      <td>Himeji</td>\n",
       "      <td>japan</td>\n",
       "      <td>34.56N</td>\n",
       "      <td>134.27E</td>\n",
       "      <td>209.0</td>\n",
       "      <td>japan</td>\n",
       "      <td>japan</td>\n",
       "    </tr>\n",
       "    <tr>\n",
       "      <th>2062106</th>\n",
       "      <td>1977-03-01</td>\n",
       "      <td>14.039</td>\n",
       "      <td>0.582</td>\n",
       "      <td>Kathmandu</td>\n",
       "      <td>nepal</td>\n",
       "      <td>28.13N</td>\n",
       "      <td>84.55E</td>\n",
       "      <td>257.0</td>\n",
       "      <td>nepal</td>\n",
       "      <td>nepal</td>\n",
       "    </tr>\n",
       "    <tr>\n",
       "      <th>2327095</th>\n",
       "      <td>2006-10-01</td>\n",
       "      <td>-0.722</td>\n",
       "      <td>0.217</td>\n",
       "      <td>Lasa</td>\n",
       "      <td>china</td>\n",
       "      <td>29.74N</td>\n",
       "      <td>90.46E</td>\n",
       "      <td>245.0</td>\n",
       "      <td>china, prc</td>\n",
       "      <td>china</td>\n",
       "    </tr>\n",
       "    <tr>\n",
       "      <th>1483865</th>\n",
       "      <td>1988-01-01</td>\n",
       "      <td>24.496</td>\n",
       "      <td>0.294</td>\n",
       "      <td>Guarulhos</td>\n",
       "      <td>brazil</td>\n",
       "      <td>23.31S</td>\n",
       "      <td>46.31W</td>\n",
       "      <td>689.0</td>\n",
       "      <td>brazil</td>\n",
       "      <td>brazil</td>\n",
       "    </tr>\n",
       "    <tr>\n",
       "      <th>1284767</th>\n",
       "      <td>1994-01-01</td>\n",
       "      <td>-9.488</td>\n",
       "      <td>0.320</td>\n",
       "      <td>Flint</td>\n",
       "      <td>united states</td>\n",
       "      <td>42.59N</td>\n",
       "      <td>82.91W</td>\n",
       "      <td>NaN</td>\n",
       "      <td>NaN</td>\n",
       "      <td>NaN</td>\n",
       "    </tr>\n",
       "  </tbody>\n",
       "</table>\n",
       "</div>"
      ],
      "text/plain": [
       "                 dt  AverageTemperature  AverageTemperatureUncertainty  \\\n",
       "2085689  2010-02-01              -1.205                          0.378   \n",
       "610706   1980-07-01              15.651                          0.233   \n",
       "3007592  1989-11-01              12.812                          0.253   \n",
       "517912   1977-03-01              26.739                          0.570   \n",
       "264952   1926-06-01              18.140                          0.468   \n",
       "1627192  1995-10-01              17.631                          0.140   \n",
       "2062106  1977-03-01              14.039                          0.582   \n",
       "2327095  2006-10-01              -0.722                          0.217   \n",
       "1483865  1988-01-01              24.496                          0.294   \n",
       "1284767  1994-01-01              -9.488                          0.320   \n",
       "\n",
       "              City      Country_x Latitude Longitude   Code    Country_y  \\\n",
       "2085689    Kelowna         canada   49.03N   120.00W    NaN          NaN   \n",
       "610706       Breda    netherlands   52.24N     5.26E  123.0  netherlands   \n",
       "3007592    Oakland  united states   37.78N   122.03W    NaN          NaN   \n",
       "517912       Bihar          india   24.92N    85.12E  213.0        india   \n",
       "264952      Aurora  united states   39.38N   104.05W    NaN          NaN   \n",
       "1627192     Himeji          japan   34.56N   134.27E  209.0        japan   \n",
       "2062106  Kathmandu          nepal   28.13N    84.55E  257.0        nepal   \n",
       "2327095       Lasa          china   29.74N    90.46E  245.0   china, prc   \n",
       "1483865  Guarulhos         brazil   23.31S    46.31W  689.0       brazil   \n",
       "1284767      Flint  united states   42.59N    82.91W    NaN          NaN   \n",
       "\n",
       "        Country_for_join  \n",
       "2085689              NaN  \n",
       "610706       netherlands  \n",
       "3007592              NaN  \n",
       "517912             india  \n",
       "264952               NaN  \n",
       "1627192            japan  \n",
       "2062106            nepal  \n",
       "2327095            china  \n",
       "1483865           brazil  \n",
       "1284767              NaN  "
      ]
     },
     "execution_count": 50,
     "metadata": {},
     "output_type": "execute_result"
    }
   ],
   "source": [
    "df_temp_country.sample(10)"
   ]
  },
  {
   "cell_type": "code",
   "execution_count": 51,
   "metadata": {
    "editable": true
   },
   "outputs": [
    {
     "data": {
      "text/plain": [
       "array(['canada', 'united states', 'congo (democratic republic of the)',\n",
       "       'puerto rico', 'cambodia'], dtype=object)"
      ]
     },
     "execution_count": 51,
     "metadata": {},
     "output_type": "execute_result"
    }
   ],
   "source": [
    "# These do not appear in the immigration set so there is not much we can do about them\n",
    "\n",
    "df_temp_country[df_temp_country['Code'].isnull()]['Country_x'].unique()"
   ]
  },
  {
   "cell_type": "code",
   "execution_count": null,
   "metadata": {
    "editable": true
   },
   "outputs": [],
   "source": []
  },
  {
   "cell_type": "code",
   "execution_count": null,
   "metadata": {
    "editable": true
   },
   "outputs": [],
   "source": [
    "# See etl.ipynb for ETL"
   ]
  },
  {
   "cell_type": "code",
   "execution_count": null,
   "metadata": {
    "editable": true
   },
   "outputs": [],
   "source": []
  }
 ],
 "metadata": {
  "kernelspec": {
   "display_name": "Python 3",
   "language": "python",
   "name": "python3"
  },
  "language_info": {
   "codemirror_mode": {
    "name": "ipython",
    "version": 3
   },
   "file_extension": ".py",
   "mimetype": "text/x-python",
   "name": "python",
   "nbconvert_exporter": "python",
   "pygments_lexer": "ipython3",
   "version": "3.6.3"
  }
 },
 "nbformat": 4,
 "nbformat_minor": 4
}
