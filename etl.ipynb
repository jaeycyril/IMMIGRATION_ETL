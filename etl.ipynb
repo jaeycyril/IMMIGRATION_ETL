{
 "cells": [
  {
   "cell_type": "code",
   "execution_count": 2,
   "metadata": {
    "editable": true
   },
   "outputs": [],
   "source": [
    "import pandas as pd\n",
    "\n",
    "from pyspark.sql import SparkSession\n",
    "import pyspark.sql.functions as F\n",
    "import pyspark.sql.types as T\n",
    "\n",
    "import datetime\n",
    "import os, sys"
   ]
  },
  {
   "cell_type": "code",
   "execution_count": 3,
   "metadata": {
    "editable": true
   },
   "outputs": [],
   "source": [
    "spark = SparkSession.builder.\\\n",
    "config(\"spark.jars.repositories\", \"https://repos.spark-packages.org/\").\\\n",
    "config(\"spark.jars.packages\", \"saurfang:spark-sas7bdat:2.0.0-s_2.11\").\\\n",
    "enableHiveSupport().getOrCreate()"
   ]
  },
  {
   "cell_type": "markdown",
   "metadata": {
    "editable": true
   },
   "source": [
    "## US CITY DEMOGRAPHICS DIMENSION"
   ]
  },
  {
   "cell_type": "code",
   "execution_count": 13,
   "metadata": {
    "editable": true
   },
   "outputs": [
    {
     "name": "stdout",
     "output_type": "stream",
     "text": [
      "+-------------+-------------+----------+---------------+-----------------+----------------+------------------+------------+----------------------+----------+\n",
      "|         City|        State|Median Age|Male Population|Female Population|Total Population|Number of Veterans|Foreign-born|Average Household Size|State Code|\n",
      "+-------------+-------------+----------+---------------+-----------------+----------------+------------------+------------+----------------------+----------+\n",
      "|Silver Spring|     Maryland|      33.8|        40601.0|          41862.0|           82463|            1562.0|     30908.0|                   2.6|        MD|\n",
      "|       Quincy|Massachusetts|      41.0|        44129.0|          49500.0|           93629|            4147.0|     32935.0|                  2.39|        MA|\n",
      "|       Hoover|      Alabama|      38.5|        38040.0|          46799.0|           84839|            4819.0|      8229.0|                  2.58|        AL|\n",
      "+-------------+-------------+----------+---------------+-----------------+----------------+------------------+------------+----------------------+----------+\n",
      "only showing top 3 rows\n",
      "\n"
     ]
    }
   ],
   "source": [
    "city_demographics = spark.read.csv(\"cleaned_data/city_demographics_cleaned.csv\", header=True)\n",
    "city_demographics.show(3)"
   ]
  },
  {
   "cell_type": "code",
   "execution_count": 14,
   "metadata": {
    "editable": true
   },
   "outputs": [
    {
     "name": "stdout",
     "output_type": "stream",
     "text": [
      "root\n",
      " |-- City: string (nullable = true)\n",
      " |-- State: string (nullable = true)\n",
      " |-- Median Age: string (nullable = true)\n",
      " |-- Male Population: string (nullable = true)\n",
      " |-- Female Population: string (nullable = true)\n",
      " |-- Total Population: string (nullable = true)\n",
      " |-- Number of Veterans: string (nullable = true)\n",
      " |-- Foreign-born: string (nullable = true)\n",
      " |-- Average Household Size: string (nullable = true)\n",
      " |-- State Code: string (nullable = true)\n",
      "\n"
     ]
    }
   ],
   "source": [
    "city_demographics.printSchema()"
   ]
  },
  {
   "cell_type": "code",
   "execution_count": 17,
   "metadata": {
    "editable": true
   },
   "outputs": [],
   "source": [
    "# We notice that most columns are numerical fields in string format.\n",
    "# We cast them to appropriate formats\n",
    "\n",
    "\n",
    "city_demographics = city_demographics.withColumn(\"Median Age\", F.col(\"Median Age\").cast(T.DoubleType()))\\\n",
    "                                    .withColumn(\"Male Population\", F.col(\"Male Population\").cast(T.IntegerType()))\\\n",
    "                                    .withColumn(\"Female Population\", F.col(\"Female Population\").cast(T.IntegerType()))\\\n",
    "                                    .withColumn(\"Total Population\", F.col(\"Total Population\").cast(T.IntegerType()))\\\n",
    "                                    .withColumn(\"Number of Veterans\", F.col(\"Number of Veterans\").cast(T.IntegerType()))\\\n",
    "                                    .withColumn(\"Foreign-born\", F.col(\"Foreign-born\").cast(T.IntegerType()))\\\n",
    "                                    .withColumn(\"Average Household Size\", F.col(\"Average Household Size\")\\\n",
    "                                                 .cast(T.DoubleType()))"
   ]
  },
  {
   "cell_type": "code",
   "execution_count": 18,
   "metadata": {
    "editable": true
   },
   "outputs": [
    {
     "name": "stdout",
     "output_type": "stream",
     "text": [
      "root\n",
      " |-- City: string (nullable = true)\n",
      " |-- State: string (nullable = true)\n",
      " |-- Median Age: string (nullable = true)\n",
      " |-- Male Population: integer (nullable = true)\n",
      " |-- Female Population: integer (nullable = true)\n",
      " |-- Total Population: integer (nullable = true)\n",
      " |-- Number of Veterans: integer (nullable = true)\n",
      " |-- Foreign-born: integer (nullable = true)\n",
      " |-- Average Household Size: double (nullable = true)\n",
      " |-- State Code: string (nullable = true)\n",
      "\n"
     ]
    }
   ],
   "source": [
    "city_demographics.printSchema()"
   ]
  },
  {
   "cell_type": "code",
   "execution_count": 20,
   "metadata": {
    "editable": true
   },
   "outputs": [],
   "source": [
    "# Clean spaces from the names of the columns for easier handling later\n",
    "\n",
    "city_demographics = city_demographics.withColumnRenamed(\"Median Age\", \"Median_Age\")\\\n",
    "                 .withColumnRenamed(\"Male Population\", \"Male_Population\")\\\n",
    "                 .withColumnRenamed(\"Female Population\", \"Female_Population\")\\\n",
    "                 .withColumnRenamed(\"Total Population\", \"Total_Population\")\\\n",
    "                 .withColumnRenamed(\"Number of Veterans\", \"Number_of_Veterans\")\\\n",
    "                 .withColumnRenamed(\"Average Household Size\", \"Average_Household_Size\")\\\n",
    "                 .withColumnRenamed(\"State Code\", \"State_Code\")"
   ]
  },
  {
   "cell_type": "code",
   "execution_count": 22,
   "metadata": {
    "editable": true
   },
   "outputs": [],
   "source": [
    "# From prior exploration, the following columns had null values in them \n",
    "# [Male pop, Female pop, Total pop, Num of veterans, Foreign born, Average Hosehold size]\n",
    "# While values of 0 are plausible, they are highly unlikely\n",
    "# Nans might also make computations difficult.\n",
    "# So we fill up the Nans with 0s\n",
    "\n",
    "\n",
    "city_demographics = city_demographics.na.fill(0, [\"Male_Population\", \"Female_Population\", \"Total_Population\", \n",
    "                                                  \"Number_of_Veterans\", \"Average_Household_Size\"])"
   ]
  },
  {
   "cell_type": "code",
   "execution_count": 23,
   "metadata": {
    "editable": true
   },
   "outputs": [
    {
     "name": "stdout",
     "output_type": "stream",
     "text": [
      "+----------------+-------------+----------+---------------+-----------------+----------------+------------------+------------+----------------------+----------+\n",
      "|            City|        State|Median_Age|Male_Population|Female_Population|Total_Population|Number_of_Veterans|Foreign-born|Average_Household_Size|State_Code|\n",
      "+----------------+-------------+----------+---------------+-----------------+----------------+------------------+------------+----------------------+----------+\n",
      "|   Silver Spring|     Maryland|      33.8|          40601|            41862|           82463|              1562|       30908|                   2.6|        MD|\n",
      "|          Quincy|Massachusetts|      41.0|          44129|            49500|           93629|              4147|       32935|                  2.39|        MA|\n",
      "|          Hoover|      Alabama|      38.5|          38040|            46799|           84839|              4819|        8229|                  2.58|        AL|\n",
      "|Rancho Cucamonga|   California|      34.5|          88127|            87105|          175232|              5821|       33878|                  3.18|        CA|\n",
      "|          Newark|   New Jersey|      34.6|         138040|           143873|          281913|              5829|       86253|                  2.73|        NJ|\n",
      "+----------------+-------------+----------+---------------+-----------------+----------------+------------------+------------+----------------------+----------+\n",
      "only showing top 5 rows\n",
      "\n"
     ]
    }
   ],
   "source": [
    "city_demographics.show(5)"
   ]
  },
  {
   "cell_type": "code",
   "execution_count": 24,
   "metadata": {
    "editable": true
   },
   "outputs": [],
   "source": [
    "# Save this final dimension table as parquet (for s3 bucket)\n",
    "\n",
    "# city_demographics.write.mode(\"overwrite\").parquet(\"fact_and_dim_tables/city_demographics_dim.parquet\")"
   ]
  },
  {
   "cell_type": "markdown",
   "metadata": {
    "editable": true
   },
   "source": [
    "## RACE COUNTS DIMENSION"
   ]
  },
  {
   "cell_type": "code",
   "execution_count": 25,
   "metadata": {
    "editable": true
   },
   "outputs": [
    {
     "name": "stdout",
     "output_type": "stream",
     "text": [
      "+-------------+-------------+------------------+-----+\n",
      "|         City|        State|              Race|Count|\n",
      "+-------------+-------------+------------------+-----+\n",
      "|Silver Spring|     Maryland|Hispanic or Latino|25924|\n",
      "|       Quincy|Massachusetts|             White|58723|\n",
      "|       Hoover|      Alabama|             Asian| 4759|\n",
      "+-------------+-------------+------------------+-----+\n",
      "only showing top 3 rows\n",
      "\n"
     ]
    }
   ],
   "source": [
    "race_counts = spark.read.csv(\"cleaned_data/race_counts.csv\", header=True)\n",
    "race_counts.show(3)"
   ]
  },
  {
   "cell_type": "code",
   "execution_count": 26,
   "metadata": {
    "editable": true
   },
   "outputs": [
    {
     "name": "stdout",
     "output_type": "stream",
     "text": [
      "root\n",
      " |-- City: string (nullable = true)\n",
      " |-- State: string (nullable = true)\n",
      " |-- Race: string (nullable = true)\n",
      " |-- Count: string (nullable = true)\n",
      "\n"
     ]
    }
   ],
   "source": [
    "race_counts.printSchema()"
   ]
  },
  {
   "cell_type": "code",
   "execution_count": 27,
   "metadata": {
    "editable": true
   },
   "outputs": [],
   "source": [
    "race_counts = race_counts.withColumn(\"Count\", F.col(\"Count\").cast(T.IntegerType()))"
   ]
  },
  {
   "cell_type": "code",
   "execution_count": 28,
   "metadata": {
    "editable": true
   },
   "outputs": [],
   "source": [
    "# Rename to avoid clash with any built in count functions\n",
    "\n",
    "race_counts = race_counts.withColumnRenamed(\"Count\", \"Race_Population\")"
   ]
  },
  {
   "cell_type": "code",
   "execution_count": 30,
   "metadata": {
    "editable": true
   },
   "outputs": [
    {
     "name": "stdout",
     "output_type": "stream",
     "text": [
      "+-------------+-------------+------------------+---------------+\n",
      "|         City|        State|              Race|Race_Population|\n",
      "+-------------+-------------+------------------+---------------+\n",
      "|Silver Spring|     Maryland|Hispanic or Latino|          25924|\n",
      "|       Quincy|Massachusetts|             White|          58723|\n",
      "|       Hoover|      Alabama|             Asian|           4759|\n",
      "+-------------+-------------+------------------+---------------+\n",
      "only showing top 3 rows\n",
      "\n"
     ]
    }
   ],
   "source": [
    "race_counts.show(3)"
   ]
  },
  {
   "cell_type": "code",
   "execution_count": 31,
   "metadata": {
    "editable": true
   },
   "outputs": [],
   "source": [
    "# Save dim table (for city demographics. Snowflake schema)\n",
    "\n",
    "# race_counts.write.mode(\"overwrite\").parquet(\"fact_and_dim_tables/race_counts_dim.parquet\")"
   ]
  },
  {
   "cell_type": "markdown",
   "metadata": {
    "editable": true
   },
   "source": [
    "## TEMPERATURE DATA DIMENSION"
   ]
  },
  {
   "cell_type": "code",
   "execution_count": 59,
   "metadata": {
    "editable": true
   },
   "outputs": [
    {
     "name": "stdout",
     "output_type": "stream",
     "text": [
      "+----------+-------------------+-----------------------------+-----+-------+--------+---------+\n",
      "|        dt| AverageTemperature|AverageTemperatureUncertainty| City|Country|Latitude|Longitude|\n",
      "+----------+-------------------+-----------------------------+-----+-------+--------+---------+\n",
      "|1900-01-01|-0.9890000000000001|                        0.588|Århus|denmark|  57.05N|   10.33E|\n",
      "|1900-02-01|             -2.799|                        0.882|Århus|denmark|  57.05N|   10.33E|\n",
      "|1900-03-01| 0.5919999999999999|                        0.429|Århus|denmark|  57.05N|   10.33E|\n",
      "+----------+-------------------+-----------------------------+-----+-------+--------+---------+\n",
      "only showing top 3 rows\n",
      "\n"
     ]
    }
   ],
   "source": [
    "temp_data = spark.read.csv(\"cleaned_data/GlobalTemperature_clean.csv\", header=True)\n",
    "temp_data.show(3)"
   ]
  },
  {
   "cell_type": "code",
   "execution_count": 60,
   "metadata": {
    "editable": true
   },
   "outputs": [
    {
     "name": "stdout",
     "output_type": "stream",
     "text": [
      "root\n",
      " |-- dt: string (nullable = true)\n",
      " |-- AverageTemperature: string (nullable = true)\n",
      " |-- AverageTemperatureUncertainty: string (nullable = true)\n",
      " |-- City: string (nullable = true)\n",
      " |-- Country: string (nullable = true)\n",
      " |-- Latitude: string (nullable = true)\n",
      " |-- Longitude: string (nullable = true)\n",
      "\n"
     ]
    }
   ],
   "source": [
    "temp_data.printSchema()"
   ]
  },
  {
   "cell_type": "code",
   "execution_count": 61,
   "metadata": {
    "editable": true
   },
   "outputs": [],
   "source": [
    "# Align data types\n",
    "\n",
    "temp_data = temp_data.withColumn(\"dt\", F.col(\"dt\").cast(T.DateType()))\\\n",
    "                  .withColumn(\"AverageTemperature\", F.col(\"AverageTemperature\").cast(T.DoubleType()))\\\n",
    "                  .withColumn(\"AverageTemperatureUncertainty\", F.col(\"AverageTemperatureUncertainty\")\\\n",
    "                              .cast(T.DoubleType()))"
   ]
  },
  {
   "cell_type": "code",
   "execution_count": 62,
   "metadata": {
    "editable": true
   },
   "outputs": [
    {
     "name": "stdout",
     "output_type": "stream",
     "text": [
      "+----------+-------------------+-----------------------------+-----+-------+--------+---------+---------+----------+\n",
      "|        dt| AverageTemperature|AverageTemperatureUncertainty| City|Country|Latitude|Longitude|temp_year|temp_month|\n",
      "+----------+-------------------+-----------------------------+-----+-------+--------+---------+---------+----------+\n",
      "|1900-01-01|-0.9890000000000001|                        0.588|Århus|denmark|  57.05N|   10.33E|     1900|         1|\n",
      "|1900-02-01|             -2.799|                        0.882|Århus|denmark|  57.05N|   10.33E|     1900|         2|\n",
      "|1900-03-01| 0.5919999999999999|                        0.429|Århus|denmark|  57.05N|   10.33E|     1900|         3|\n",
      "+----------+-------------------+-----------------------------+-----+-------+--------+---------+---------+----------+\n",
      "only showing top 3 rows\n",
      "\n"
     ]
    }
   ],
   "source": [
    "\"Getting month and year columns for easier aggregations later\"\n",
    "\n",
    "temp_data = temp_data.withColumn(\"temp_year\", F.year(F.col('dt')))\\\n",
    "            .withColumn(\"temp_month\", F.month(F.col('dt')))\n",
    "\n",
    "temp_data.show(3)"
   ]
  },
  {
   "cell_type": "code",
   "execution_count": 42,
   "metadata": {
    "editable": true
   },
   "outputs": [
    {
     "name": "stdout",
     "output_type": "stream",
     "text": [
      "+----+--------------------+\n",
      "|Code|             Country|\n",
      "+----+--------------------+\n",
      "| 582| MEXICO Air Sea, ...|\n",
      "| 236|         AFGHANISTAN|\n",
      "| 101|             ALBANIA|\n",
      "+----+--------------------+\n",
      "only showing top 3 rows\n",
      "\n"
     ]
    }
   ],
   "source": [
    "# Read in the I94 COUNTRY CODES to join to this table.\n",
    "# This allows for link between this Temperature dimension and the fact table\n",
    "\n",
    "i94_cc = spark.read.csv(\"I94COUNTRY_output.csv\", header=True, inferSchema=True)\n",
    "i94_cc.show(3)"
   ]
  },
  {
   "cell_type": "code",
   "execution_count": 43,
   "metadata": {
    "editable": true
   },
   "outputs": [
    {
     "name": "stdout",
     "output_type": "stream",
     "text": [
      "root\n",
      " |-- Code: integer (nullable = true)\n",
      " |-- Country: string (nullable = true)\n",
      "\n"
     ]
    }
   ],
   "source": [
    "i94_cc.printSchema()"
   ]
  },
  {
   "cell_type": "code",
   "execution_count": 45,
   "metadata": {
    "editable": true
   },
   "outputs": [],
   "source": [
    "i94_cc = i94_cc.withColumn(\"Country_for_join\", F.lower(F.col('Country')))"
   ]
  },
  {
   "cell_type": "code",
   "execution_count": 63,
   "metadata": {
    "editable": true
   },
   "outputs": [],
   "source": [
    "i94_cc = i94_cc.withColumn(\"Country_for_join\", F.trim(F.col('Country_for_join')))"
   ]
  },
  {
   "cell_type": "code",
   "execution_count": 48,
   "metadata": {
    "editable": true
   },
   "outputs": [],
   "source": [
    "# These countries that did not match were gotten from the initial data exploration\n",
    "\n",
    "country_renaming = {'china, prc':'china',\n",
    "              'ivory coast': \"côte d'ivoire\",\n",
    "              'mexico air sea, and not reported (i-94, no land arrivals)':'mexico',\n",
    "              'bosnia-herzegovina': 'bosnia and herzegovina',\n",
    "              'guinea-bissau': 'guinea bissau',\n",
    "               'congo': 'congo (democratic republic of the)'}"
   ]
  },
  {
   "cell_type": "code",
   "execution_count": 65,
   "metadata": {
    "editable": true
   },
   "outputs": [],
   "source": [
    "for old_country, new_country in country_renaming.items():\n",
    "    i94_cc = i94_cc.withColumn(\"Country_for_join\", F.when(F.col('Country_for_join')== old_country, new_country)\\\n",
    "                  .otherwise(F.col('Country_for_join')))"
   ]
  },
  {
   "cell_type": "code",
   "execution_count": 66,
   "metadata": {
    "editable": true
   },
   "outputs": [],
   "source": [
    "i94_cc_for_join = i94_cc.select(\"Code\", \"Country_for_join\")"
   ]
  },
  {
   "cell_type": "code",
   "execution_count": 67,
   "metadata": {
    "editable": true
   },
   "outputs": [
    {
     "name": "stdout",
     "output_type": "stream",
     "text": [
      "+----+----------------+\n",
      "|Code|Country_for_join|\n",
      "+----+----------------+\n",
      "| 582|          mexico|\n",
      "| 236|     afghanistan|\n",
      "| 101|         albania|\n",
      "| 316|         algeria|\n",
      "| 102|         andorra|\n",
      "+----+----------------+\n",
      "only showing top 5 rows\n",
      "\n"
     ]
    }
   ],
   "source": [
    "i94_cc_for_join.show(5)"
   ]
  },
  {
   "cell_type": "code",
   "execution_count": 68,
   "metadata": {
    "editable": true
   },
   "outputs": [],
   "source": [
    "# Now join to the temp data \n",
    "\n",
    "temp_code_data = temp_data.join(i94_cc_for_join, temp_data.Country==i94_cc_for_join.Country_for_join, \"left\")\\\n",
    "                     .drop(\"Country_for_join\")"
   ]
  },
  {
   "cell_type": "code",
   "execution_count": 69,
   "metadata": {
    "editable": true
   },
   "outputs": [
    {
     "name": "stdout",
     "output_type": "stream",
     "text": [
      "+----------+-------------------+-----------------------------+-----+-------+--------+---------+---------+----------+----+\n",
      "|        dt| AverageTemperature|AverageTemperatureUncertainty| City|Country|Latitude|Longitude|temp_year|temp_month|Code|\n",
      "+----------+-------------------+-----------------------------+-----+-------+--------+---------+---------+----------+----+\n",
      "|1900-01-01|-0.9890000000000001|                        0.588|Århus|denmark|  57.05N|   10.33E|     1900|         1| 108|\n",
      "|1900-02-01|             -2.799|                        0.882|Århus|denmark|  57.05N|   10.33E|     1900|         2| 108|\n",
      "|1900-03-01| 0.5919999999999999|                        0.429|Århus|denmark|  57.05N|   10.33E|     1900|         3| 108|\n",
      "|1900-04-01|               4.63|                        0.417|Århus|denmark|  57.05N|   10.33E|     1900|         4| 108|\n",
      "|1900-05-01|              9.576|                        0.521|Århus|denmark|  57.05N|   10.33E|     1900|         5| 108|\n",
      "+----------+-------------------+-----------------------------+-----+-------+--------+---------+---------+----------+----+\n",
      "only showing top 5 rows\n",
      "\n"
     ]
    }
   ],
   "source": [
    "temp_code_data.show(5)"
   ]
  },
  {
   "cell_type": "code",
   "execution_count": 72,
   "metadata": {
    "editable": true
   },
   "outputs": [
    {
     "data": {
      "text/plain": [
       "391752"
      ]
     },
     "execution_count": 72,
     "metadata": {},
     "output_type": "execute_result"
    }
   ],
   "source": [
    "# Some countries do not have codes.\n",
    "\n",
    "temp_code_data.filter(F.isnull(F.col('Code'))).select('Code').count()"
   ]
  },
  {
   "cell_type": "code",
   "execution_count": 73,
   "metadata": {
    "editable": true
   },
   "outputs": [
    {
     "name": "stdout",
     "output_type": "stream",
     "text": [
      "+----------+-------------------+-----------------------------+-----+-------+--------+---------+---------+----------+----+\n",
      "|        dt| AverageTemperature|AverageTemperatureUncertainty| City|Country|Latitude|Longitude|temp_year|temp_month|Code|\n",
      "+----------+-------------------+-----------------------------+-----+-------+--------+---------+---------+----------+----+\n",
      "|1900-01-01|-0.9890000000000001|                        0.588|Århus|Denmark|  57.05N|   10.33E|     1900|         1| 108|\n",
      "|1900-02-01|             -2.799|                        0.882|Århus|Denmark|  57.05N|   10.33E|     1900|         2| 108|\n",
      "|1900-03-01| 0.5919999999999999|                        0.429|Århus|Denmark|  57.05N|   10.33E|     1900|         3| 108|\n",
      "+----------+-------------------+-----------------------------+-----+-------+--------+---------+---------+----------+----+\n",
      "only showing top 3 rows\n",
      "\n"
     ]
    }
   ],
   "source": [
    "temp_code_data = temp_code_data.withColumn(\"Country\", F.initcap(F.col('Country')))\n",
    "temp_code_data.show(3)"
   ]
  },
  {
   "cell_type": "code",
   "execution_count": 74,
   "metadata": {
    "editable": true
   },
   "outputs": [
    {
     "name": "stdout",
     "output_type": "stream",
     "text": [
      "4788080\n",
      "4788080\n"
     ]
    }
   ],
   "source": [
    "print(temp_code_data.count())\n",
    "\n",
    "temp_code_data = temp_code_data.dropDuplicates()\n",
    "\n",
    "print(temp_code_data.count())"
   ]
  },
  {
   "cell_type": "code",
   "execution_count": 75,
   "metadata": {
    "editable": true
   },
   "outputs": [],
   "source": [
    "# Save this temperature dimension\n",
    "\n",
    "temp_code_data.write.mode(\"overwrite\").parquet(\"fact_and_dim_tables/temp_dim.parquet\")"
   ]
  },
  {
   "cell_type": "markdown",
   "metadata": {
    "editable": true
   },
   "source": [
    "## VISA AND MODE (JUNK) DIMENSION"
   ]
  },
  {
   "cell_type": "code",
   "execution_count": 85,
   "metadata": {
    "editable": true
   },
   "outputs": [
    {
     "name": "stdout",
     "output_type": "stream",
     "text": [
      "+----+---------+\n",
      "|Code|Visa_type|\n",
      "+----+---------+\n",
      "|   1| Business|\n",
      "|   2| Pleasure|\n",
      "|   3|  Student|\n",
      "+----+---------+\n",
      "\n"
     ]
    }
   ],
   "source": [
    "visa_data = spark.read.csv(\"I94VISA.csv\", inferSchema=True, header=True)\n",
    "visa_data.show()"
   ]
  },
  {
   "cell_type": "code",
   "execution_count": 86,
   "metadata": {
    "editable": true
   },
   "outputs": [
    {
     "name": "stdout",
     "output_type": "stream",
     "text": [
      "+----+-----------+\n",
      "|Code|       Mode|\n",
      "+----+-----------+\n",
      "|   1|        Air|\n",
      "|   2|        Sea|\n",
      "|   3|       Land|\n",
      "|   9|Notreported|\n",
      "+----+-----------+\n",
      "\n"
     ]
    }
   ],
   "source": [
    "mode_data = spark.read.csv(\"I94MODE_output.csv\", inferSchema=True, header=True)\n",
    "mode_data.show()"
   ]
  },
  {
   "cell_type": "code",
   "execution_count": 87,
   "metadata": {
    "editable": true
   },
   "outputs": [],
   "source": [
    "visa_data = visa_data.withColumnRenamed(\"Code\", \"Visa_Code\")\n",
    "mode_data = mode_data.withColumnRenamed(\"Code\", \"Mode_Code\")"
   ]
  },
  {
   "cell_type": "code",
   "execution_count": 90,
   "metadata": {
    "editable": true
   },
   "outputs": [
    {
     "name": "stdout",
     "output_type": "stream",
     "text": [
      "+---------+---------+---------+-----------+\n",
      "|Visa_Code|Visa_type|Mode_Code|       Mode|\n",
      "+---------+---------+---------+-----------+\n",
      "|        1| Business|        1|        Air|\n",
      "|        1| Business|        2|        Sea|\n",
      "|        1| Business|        3|       Land|\n",
      "|        1| Business|        9|Notreported|\n",
      "|        2| Pleasure|        1|        Air|\n",
      "|        2| Pleasure|        2|        Sea|\n",
      "|        2| Pleasure|        3|       Land|\n",
      "|        2| Pleasure|        9|Notreported|\n",
      "|        3|  Student|        1|        Air|\n",
      "|        3|  Student|        2|        Sea|\n",
      "|        3|  Student|        3|       Land|\n",
      "|        3|  Student|        9|Notreported|\n",
      "+---------+---------+---------+-----------+\n",
      "\n"
     ]
    }
   ],
   "source": [
    "visa_and_mode_dim = visa_data.crossJoin(mode_data)\n",
    "visa_and_mode_dim.show()"
   ]
  },
  {
   "cell_type": "code",
   "execution_count": 91,
   "metadata": {
    "editable": true
   },
   "outputs": [],
   "source": [
    "visa_and_mode_dim.write.mode(\"overwrite\").parquet(\"fact_and_dim_tables/visa_and_mode_dim.parquet\")"
   ]
  },
  {
   "cell_type": "markdown",
   "metadata": {
    "editable": true
   },
   "source": [
    "## IMMIGRATION TABLE\n",
    "\n",
    "This table would provide the time dimension and the fact table"
   ]
  },
  {
   "cell_type": "code",
   "execution_count": 4,
   "metadata": {
    "editable": true
   },
   "outputs": [
    {
     "name": "stdout",
     "output_type": "stream",
     "text": [
      "+---------+------+------+------+------+-------+-------+-------+-------+-------+------+-------+-----+--------+--------+-----+-------+-------+-------+-------+-------+--------+------+------+-------+--------------+-----+--------+\n",
      "|    cicid| i94yr|i94mon|i94cit|i94res|i94port|arrdate|i94mode|i94addr|depdate|i94bir|i94visa|count|dtadfile|visapost|occup|entdepa|entdepd|entdepu|matflag|biryear| dtaddto|gender|insnum|airline|        admnum|fltno|visatype|\n",
      "+---------+------+------+------+------+-------+-------+-------+-------+-------+------+-------+-----+--------+--------+-----+-------+-------+-------+-------+-------+--------+------+------+-------+--------------+-----+--------+\n",
      "|5748517.0|2016.0|   4.0| 245.0| 438.0|    LOS|20574.0|    1.0|     CA|20582.0|  40.0|    1.0|  1.0|20160430|     SYD| null|      G|      O|   null|      M| 1976.0|10292016|     F|  null|     QF|9.495387003E10|00011|      B1|\n",
      "|5748518.0|2016.0|   4.0| 245.0| 438.0|    LOS|20574.0|    1.0|     NV|20591.0|  32.0|    1.0|  1.0|20160430|     SYD| null|      G|      O|   null|      M| 1984.0|10292016|     F|  null|     VA|9.495562283E10|00007|      B1|\n",
      "|5748519.0|2016.0|   4.0| 245.0| 438.0|    LOS|20574.0|    1.0|     WA|20582.0|  29.0|    1.0|  1.0|20160430|     SYD| null|      G|      O|   null|      M| 1987.0|10292016|     M|  null|     DL|9.495640653E10|00040|      B1|\n",
      "+---------+------+------+------+------+-------+-------+-------+-------+-------+------+-------+-----+--------+--------+-----+-------+-------+-------+-------+-------+--------+------+------+-------+--------------+-----+--------+\n",
      "only showing top 3 rows\n",
      "\n"
     ]
    }
   ],
   "source": [
    "immig_data = spark.read.parquet(\"sas_data\")\n",
    "immig_data.show(3)"
   ]
  },
  {
   "cell_type": "code",
   "execution_count": 5,
   "metadata": {
    "editable": true
   },
   "outputs": [
    {
     "name": "stdout",
     "output_type": "stream",
     "text": [
      "root\n",
      " |-- cicid: double (nullable = true)\n",
      " |-- i94yr: double (nullable = true)\n",
      " |-- i94mon: double (nullable = true)\n",
      " |-- i94cit: double (nullable = true)\n",
      " |-- i94res: double (nullable = true)\n",
      " |-- i94port: string (nullable = true)\n",
      " |-- arrdate: double (nullable = true)\n",
      " |-- i94mode: double (nullable = true)\n",
      " |-- i94addr: string (nullable = true)\n",
      " |-- depdate: double (nullable = true)\n",
      " |-- i94bir: double (nullable = true)\n",
      " |-- i94visa: double (nullable = true)\n",
      " |-- count: double (nullable = true)\n",
      " |-- dtadfile: string (nullable = true)\n",
      " |-- visapost: string (nullable = true)\n",
      " |-- occup: string (nullable = true)\n",
      " |-- entdepa: string (nullable = true)\n",
      " |-- entdepd: string (nullable = true)\n",
      " |-- entdepu: string (nullable = true)\n",
      " |-- matflag: string (nullable = true)\n",
      " |-- biryear: double (nullable = true)\n",
      " |-- dtaddto: string (nullable = true)\n",
      " |-- gender: string (nullable = true)\n",
      " |-- insnum: string (nullable = true)\n",
      " |-- airline: string (nullable = true)\n",
      " |-- admnum: double (nullable = true)\n",
      " |-- fltno: string (nullable = true)\n",
      " |-- visatype: string (nullable = true)\n",
      "\n"
     ]
    }
   ],
   "source": [
    "immig_data.printSchema()"
   ]
  },
  {
   "cell_type": "code",
   "execution_count": 26,
   "metadata": {
    "editable": true
   },
   "outputs": [],
   "source": [
    "# By inspection, we can see that most of the columns with double type should be integers\n",
    "# We convert them\n",
    "\n",
    "for col, coltype in immig_data.dtypes:\n",
    "    if coltype == 'double':\n",
    "        immig_data = immig_data.withColumn(col, F.col(col).cast(T.IntegerType()))"
   ]
  },
  {
   "cell_type": "code",
   "execution_count": 28,
   "metadata": {
    "editable": true
   },
   "outputs": [
    {
     "name": "stdout",
     "output_type": "stream",
     "text": [
      "+-------+-----+------+------+------+-------+-------+-------+-------+-------+------+-------+-----+--------+--------+-----+-------+-------+-------+-------+-------+--------+------+------+-------+----------+-----+--------+\n",
      "|  cicid|i94yr|i94mon|i94cit|i94res|i94port|arrdate|i94mode|i94addr|depdate|i94bir|i94visa|count|dtadfile|visapost|occup|entdepa|entdepd|entdepu|matflag|biryear| dtaddto|gender|insnum|airline|    admnum|fltno|visatype|\n",
      "+-------+-----+------+------+------+-------+-------+-------+-------+-------+------+-------+-----+--------+--------+-----+-------+-------+-------+-------+-------+--------+------+------+-------+----------+-----+--------+\n",
      "|5748517| 2016|     4|   245|   438|    LOS|  20574|      1|     CA|  20582|    40|      1|    1|20160430|     SYD| null|      G|      O|   null|      M|   1976|10292016|     F|  null|     QF|2147483647|00011|      B1|\n",
      "|5748518| 2016|     4|   245|   438|    LOS|  20574|      1|     NV|  20591|    32|      1|    1|20160430|     SYD| null|      G|      O|   null|      M|   1984|10292016|     F|  null|     VA|2147483647|00007|      B1|\n",
      "|5748519| 2016|     4|   245|   438|    LOS|  20574|      1|     WA|  20582|    29|      1|    1|20160430|     SYD| null|      G|      O|   null|      M|   1987|10292016|     M|  null|     DL|2147483647|00040|      B1|\n",
      "+-------+-----+------+------+------+-------+-------+-------+-------+-------+------+-------+-----+--------+--------+-----+-------+-------+-------+-------+-------+--------+------+------+-------+----------+-----+--------+\n",
      "only showing top 3 rows\n",
      "\n"
     ]
    }
   ],
   "source": [
    "immig_data.show(3)"
   ]
  },
  {
   "cell_type": "code",
   "execution_count": 47,
   "metadata": {
    "editable": true
   },
   "outputs": [
    {
     "name": "stdout",
     "output_type": "stream",
     "text": [
      "+-------+------------+-------+--------------+\n",
      "|arrdate|arrival_date|depdate|departure_date|\n",
      "+-------+------------+-------+--------------+\n",
      "|  20574|  2016-04-30|  20582|    2016-05-08|\n",
      "|  20574|  2016-04-30|  20591|    2016-05-17|\n",
      "|  20574|  2016-04-30|  20582|    2016-05-08|\n",
      "|  20574|  2016-04-30|  20588|    2016-05-14|\n",
      "|  20574|  2016-04-30|  20588|    2016-05-14|\n",
      "+-------+------------+-------+--------------+\n",
      "only showing top 5 rows\n",
      "\n"
     ]
    }
   ],
   "source": [
    "# Convert depdate and arrdate to normal date formats\n",
    "# SAS formats begin 1960-01-01 unlike the normal unix format of 1970\n",
    "\n",
    "immig_data = immig_data.withColumn(\"arrival_date\", F.expr(\"date_add('1960-01-01', arrdate)\"))\\\n",
    "          .withColumn(\"departure_date\", F.expr(\"date_add('1960-01-01', depdate)\"))\n",
    "          \n",
    "immig_data.select(\"arrdate\", \"arrival_date\", \"depdate\", \"departure_date\").show(5)"
   ]
  },
  {
   "cell_type": "code",
   "execution_count": 73,
   "metadata": {
    "editable": true
   },
   "outputs": [
    {
     "data": {
      "text/plain": [
       "236"
      ]
     },
     "execution_count": 73,
     "metadata": {},
     "output_type": "execute_result"
    }
   ],
   "source": [
    "# Get the time columns\n",
    "\n",
    "df_arr_dates = immig_data.select(\"arrival_date\")\n",
    "df_dep_dates = immig_data.select(\"departure_date\")\n",
    "\n",
    "df_dates = df_arr_dates.union(df_dep_dates)\n",
    "\n",
    "df_dates = df_dates.dropDuplicates()\n",
    "df_dates.count()"
   ]
  },
  {
   "cell_type": "code",
   "execution_count": 75,
   "metadata": {
    "editable": true
   },
   "outputs": [],
   "source": [
    "df_dates = df_dates.withColumnRenamed(\"arrival_date\", \"migration_date\")"
   ]
  },
  {
   "cell_type": "code",
   "execution_count": 76,
   "metadata": {
    "editable": true
   },
   "outputs": [
    {
     "name": "stdout",
     "output_type": "stream",
     "text": [
      "+--------------+----+-----+----------+---------+---------+----------+-------+\n",
      "|migration_date|Year|Month|DayOfMonth|DayOfWeek|DayOfYear|WeekofYear|Quarter|\n",
      "+--------------+----+-----+----------+---------+---------+----------+-------+\n",
      "|    2016-03-01|2016|    3|         1|        3|       61|         9|      1|\n",
      "|    2016-04-25|2016|    4|        25|        2|      116|        17|      2|\n",
      "|    2016-05-03|2016|    5|         3|        3|      124|        18|      2|\n",
      "|    2016-08-15|2016|    8|        15|        2|      228|        33|      3|\n",
      "|    2016-08-31|2016|    8|        31|        4|      244|        35|      3|\n",
      "+--------------+----+-----+----------+---------+---------+----------+-------+\n",
      "only showing top 5 rows\n",
      "\n"
     ]
    }
   ],
   "source": [
    "# Now we get other useful date columns for our Date dimension table\n",
    "\n",
    "df_dates = df_dates.withColumn(\"Year\", F.year(\"migration_date\"))\\\n",
    "                   .withColumn(\"Month\", F.month(\"migration_date\"))\\\n",
    "                   .withColumn(\"DayOfMonth\", F.dayofmonth(\"migration_date\"))\\\n",
    "                   .withColumn(\"DayOfWeek\", F.dayofweek(\"migration_date\"))\\\n",
    "                   .withColumn(\"DayOfYear\", F.dayofyear(\"migration_date\"))\\\n",
    "                   .withColumn(\"WeekofYear\", F.weekofyear(\"migration_date\"))\\\n",
    "                   .withColumn(\"Quarter\", F.quarter(\"migration_date\"))\\\n",
    "\n",
    "df_dates.show(5)"
   ]
  },
  {
   "cell_type": "code",
   "execution_count": 78,
   "metadata": {
    "editable": true
   },
   "outputs": [],
   "source": [
    "# Save the Date dimension\n",
    "\n",
    "# df_dates.write.mode(\"overwrite\").parquet(\"fact_and_dim_tables/Date_dim.parquet\")"
   ]
  },
  {
   "cell_type": "code",
   "execution_count": null,
   "metadata": {
    "editable": true
   },
   "outputs": [],
   "source": []
  },
  {
   "cell_type": "code",
   "execution_count": 82,
   "metadata": {
    "editable": true
   },
   "outputs": [
    {
     "name": "stdout",
     "output_type": "stream",
     "text": [
      "3096313\n"
     ]
    },
    {
     "data": {
      "text/plain": [
       "3096313"
      ]
     },
     "execution_count": 82,
     "metadata": {},
     "output_type": "execute_result"
    }
   ],
   "source": [
    "# Get the useful columns from th eimmigration data to form the fact table\n",
    "\n",
    "print(immig_data.count())\n",
    "immig_data.dropDuplicates().count()"
   ]
  },
  {
   "cell_type": "code",
   "execution_count": 83,
   "metadata": {
    "editable": true
   },
   "outputs": [],
   "source": [
    "# immig_data.write.mode('overwrite').parquet('fact_and_dim_tables/migration_fact.parquet')"
   ]
  },
  {
   "cell_type": "code",
   "execution_count": null,
   "metadata": {
    "editable": true
   },
   "outputs": [],
   "source": []
  },
  {
   "cell_type": "code",
   "execution_count": null,
   "metadata": {
    "editable": true
   },
   "outputs": [],
   "source": []
  },
  {
   "cell_type": "code",
   "execution_count": null,
   "metadata": {
    "editable": true
   },
   "outputs": [],
   "source": []
  },
  {
   "cell_type": "code",
   "execution_count": null,
   "metadata": {
    "editable": true
   },
   "outputs": [],
   "source": []
  },
  {
   "cell_type": "code",
   "execution_count": null,
   "metadata": {
    "editable": true
   },
   "outputs": [],
   "source": []
  },
  {
   "cell_type": "code",
   "execution_count": null,
   "metadata": {
    "editable": true
   },
   "outputs": [],
   "source": []
  },
  {
   "cell_type": "code",
   "execution_count": null,
   "metadata": {
    "editable": true
   },
   "outputs": [],
   "source": []
  },
  {
   "cell_type": "code",
   "execution_count": null,
   "metadata": {
    "editable": true
   },
   "outputs": [],
   "source": []
  },
  {
   "cell_type": "code",
   "execution_count": null,
   "metadata": {
    "editable": true
   },
   "outputs": [],
   "source": []
  },
  {
   "cell_type": "code",
   "execution_count": null,
   "metadata": {
    "editable": true
   },
   "outputs": [],
   "source": []
  },
  {
   "cell_type": "code",
   "execution_count": null,
   "metadata": {
    "editable": true
   },
   "outputs": [],
   "source": []
  }
 ],
 "metadata": {
  "kernelspec": {
   "display_name": "Python 3",
   "language": "python",
   "name": "python3"
  },
  "language_info": {
   "codemirror_mode": {
    "name": "ipython",
    "version": 3
   },
   "file_extension": ".py",
   "mimetype": "text/x-python",
   "name": "python",
   "nbconvert_exporter": "python",
   "pygments_lexer": "ipython3",
   "version": "3.6.3"
  }
 },
 "nbformat": 4,
 "nbformat_minor": 4
}
